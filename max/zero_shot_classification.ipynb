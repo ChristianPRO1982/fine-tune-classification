{
 "cells": [
  {
   "cell_type": "code",
   "execution_count": 4,
   "metadata": {},
   "outputs": [],
   "source": [
    "from transformers import pipeline\n",
    "from labels import LABELS"
   ]
  },
  {
   "cell_type": "code",
   "execution_count": 8,
   "metadata": {},
   "outputs": [
    {
     "data": {
      "application/vnd.jupyter.widget-view+json": {
       "model_id": "05c05e1b4d674782a17f6062c839db8c",
       "version_major": 2,
       "version_minor": 0
      },
      "text/plain": [
       "config.json:   0%|          | 0.00/965 [00:00<?, ?B/s]"
      ]
     },
     "metadata": {},
     "output_type": "display_data"
    },
    {
     "data": {
      "application/vnd.jupyter.widget-view+json": {
       "model_id": "4f277e66a21c45ed8f9c2ae12d93bb95",
       "version_major": 2,
       "version_minor": 0
      },
      "text/plain": [
       "model.safetensors:   0%|          | 0.00/272M [00:00<?, ?B/s]"
      ]
     },
     "metadata": {},
     "output_type": "display_data"
    },
    {
     "data": {
      "application/vnd.jupyter.widget-view+json": {
       "model_id": "39d89404b24a4692bd4fe4f8a9cc1292",
       "version_major": 2,
       "version_minor": 0
      },
      "text/plain": [
       "tokenizer_config.json:   0%|          | 0.00/236 [00:00<?, ?B/s]"
      ]
     },
     "metadata": {},
     "output_type": "display_data"
    },
    {
     "data": {
      "application/vnd.jupyter.widget-view+json": {
       "model_id": "fc850668060a4d12ba8edd9ea5c5d51a",
       "version_major": 2,
       "version_minor": 0
      },
      "text/plain": [
       "sentencepiece.bpe.model:   0%|          | 0.00/811k [00:00<?, ?B/s]"
      ]
     },
     "metadata": {},
     "output_type": "display_data"
    }
   ],
   "source": [
    "# Charger le pipeline de classification zero-shot\n",
    "classifier = pipeline(\"zero-shot-classification\", model=\"cmarkea/distilcamembert-base-nli\")"
   ]
  },
  {
   "cell_type": "code",
   "execution_count": 9,
   "metadata": {},
   "outputs": [
    {
     "data": {
      "text/plain": [
       "{'sequence': 'Après de multiples tournées à succès et plus de 2 millions de billets vendus, Messmer, connu et reconnu comme le Maître Mondial de l’Hypnose revient près de chez vous !\\n\\nDans 13Hz, Messmer vous invite à entrer dans son mystérieux et hilarant univers où la frontière entre la réalité et l’illusion s’efface, pour diriger vos pensées vers des territoires inconnus.\\n\\nAvec sa présence charismatique inégalée et son talent exceptionnel, le recordman en hypnose collective avec 1066 personnes hypnotisées en moins de 5 minutes, vous plonge au cœur de vos pensées les plus profondes avant de vous guider à travers un jeu subtil d’ondes cérébrales à 13Hz.\\n\\nLe fascinateur vous entraîne vers un état de conscience unique où la volonté et le contrôle de nos vies prennent une nouvelle dimension.\\n\\nOsez découvrir l’expérience Messmer, où la maîtrise de soi et la fascination se rencontrent.',\n",
       " 'labels': ['Détente',\n",
       "  'Visite',\n",
       "  'Marché',\n",
       "  'Atelier',\n",
       "  'Spectacle',\n",
       "  'Jeu',\n",
       "  'Balade',\n",
       "  'Conférence',\n",
       "  'Exposition',\n",
       "  'Théatre',\n",
       "  'Concert',\n",
       "  'Culture',\n",
       "  'Brocante',\n",
       "  'Action',\n",
       "  'Festival',\n",
       "  'Art',\n",
       "  'Environnement',\n",
       "  'Histoire',\n",
       "  'Santé',\n",
       "  'Danse',\n",
       "  'Gastronomie',\n",
       "  'Fête',\n",
       "  'Sport',\n",
       "  'Famille'],\n",
       " 'scores': [0.05689859390258789,\n",
       "  0.056738704442977905,\n",
       "  0.05633608251810074,\n",
       "  0.054687175899744034,\n",
       "  0.053703270852565765,\n",
       "  0.052462849766016006,\n",
       "  0.051777735352516174,\n",
       "  0.05100587382912636,\n",
       "  0.049758173525333405,\n",
       "  0.04871683940291405,\n",
       "  0.04765888303518295,\n",
       "  0.045550160109996796,\n",
       "  0.045221392065286636,\n",
       "  0.04075753688812256,\n",
       "  0.033150650560855865,\n",
       "  0.03292069956660271,\n",
       "  0.0328710600733757,\n",
       "  0.03126082196831703,\n",
       "  0.029773829504847527,\n",
       "  0.02940475195646286,\n",
       "  0.029284914955496788,\n",
       "  0.028260231018066406,\n",
       "  0.021355293691158295,\n",
       "  0.020444491878151894]}"
      ]
     },
     "execution_count": 9,
     "metadata": {},
     "output_type": "execute_result"
    }
   ],
   "source": [
    "\n",
    "# Texte à classifier\n",
    "sequence_to_classify = \"\"\"Après de multiples tournées à succès et plus de 2 millions de billets vendus, Messmer, connu et reconnu comme le Maître Mondial de l’Hypnose revient près de chez vous !\n",
    "\n",
    "Dans 13Hz, Messmer vous invite à entrer dans son mystérieux et hilarant univers où la frontière entre la réalité et l’illusion s’efface, pour diriger vos pensées vers des territoires inconnus.\n",
    "\n",
    "Avec sa présence charismatique inégalée et son talent exceptionnel, le recordman en hypnose collective avec 1066 personnes hypnotisées en moins de 5 minutes, vous plonge au cœur de vos pensées les plus profondes avant de vous guider à travers un jeu subtil d’ondes cérébrales à 13Hz.\n",
    "\n",
    "Le fascinateur vous entraîne vers un état de conscience unique où la volonté et le contrôle de nos vies prennent une nouvelle dimension.\n",
    "\n",
    "Osez découvrir l’expérience Messmer, où la maîtrise de soi et la fascination se rencontrent.\"\"\"\n",
    "\n",
    "# Labels candidats\n",
    "candidate_labels = LABELS\n",
    "\n",
    "# Effectuer la classification zero-shot\n",
    "result = classifier(sequence_to_classify, candidate_labels)\n",
    "\n",
    "# Afficher les résultats\n",
    "result"
   ]
  }
 ],
 "metadata": {
  "language_info": {
   "name": "python"
  }
 },
 "nbformat": 4,
 "nbformat_minor": 2
}
