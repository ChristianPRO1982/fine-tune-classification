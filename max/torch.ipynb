{
 "cells": [
  {
   "cell_type": "code",
   "execution_count": 1,
   "metadata": {},
   "outputs": [],
   "source": [
    "import pandas as pd\n",
    "from labels import LABELS"
   ]
  },
  {
   "cell_type": "code",
   "execution_count": 2,
   "metadata": {},
   "outputs": [],
   "source": [
    "data = \"/teamspace/studios/this_studio/max/dataset_resume.csv\"\n",
    "df = pd.read_csv(data, usecols=LABELS + ['description', 'resume'])\n"
   ]
  },
  {
   "cell_type": "code",
   "execution_count": 3,
   "metadata": {},
   "outputs": [],
   "source": [
    "def setup(df_orig) -> pd.DataFrame:\n",
    "    df = df_orig.copy()\n",
    "\n",
    "    df[\"label\"] = pd.Series().fillna(\"\")\n",
    "    for index, row in df.iterrows():\n",
    "        # s'il y a un résumé, on l'utilise comme description\n",
    "        df.loc[index, \"description\"] = (\n",
    "                row.resume\n",
    "                if isinstance(row.resume, str)\n",
    "                else row.description\n",
    "            )\n",
    "\n",
    "        features = row[LABELS]\n",
    "        df.at[index, \"label\"] = [feature for feature in features]\n",
    "\n",
    "    df = df.rename(columns={'description': 'text'})\n",
    "    return df[['text', 'label']]\n",
    "\n",
    "features = df[LABELS]\n",
    "\n",
    "df_clean = setup(df)"
   ]
  },
  {
   "cell_type": "code",
   "execution_count": 4,
   "metadata": {},
   "outputs": [],
   "source": [
    "import torch\n",
    "from transformers import CamembertTokenizer, AutoTokenizer\n",
    "from transformers import CamembertForSequenceClassification, AutoModelForSequenceClassification\n",
    "from sklearn.model_selection import train_test_split\n",
    "from torch.utils.data import Dataset"
   ]
  },
  {
   "cell_type": "code",
   "execution_count": 5,
   "metadata": {},
   "outputs": [],
   "source": [
    "train_texts, val_texts, train_labels, val_labels = train_test_split(df_clean['text'], df_clean['label'], test_size=.2, random_state=42)"
   ]
  },
  {
   "cell_type": "code",
   "execution_count": 7,
   "metadata": {},
   "outputs": [
    {
     "data": {
      "text/plain": [
       "(291    Le Parti pris des choses / Exposition collecti...\n",
       " 63     Dimanche 17 Septembre de 8h à 18h, organisée p...\n",
       " 239    DÉLIRES DE NOËL dimanche 17 décembre 2023 de 1...\n",
       " 353    📣 Le Trail des Pipi-Malo 2023 sera de retour l...\n",
       " 219    Spectacle de théâtre \"Extinction\" avec Julien ...\n",
       "                              ...                        \n",
       " 71     La Chèvrerie La Bêle Fontenoise organise la 3è...\n",
       " 106    Salon Destination Bien Être de Caudry les 21 e...\n",
       " 270    SALON DES ARTISTES AMATEURS AULNESIENS Du 29 m...\n",
       " 348    « Tous en forêt » Un rendez-vous privilégié av...\n",
       " 102    Ce salon qui, d'année en année, monte en puiss...\n",
       " Name: text, Length: 312, dtype: object,\n",
       " 291    [0.0, 0.0, 1.0, 0.0, 0.0, 0.0, 0.0, 0.0, 0.0, ...\n",
       " 63     [0.0, 0.0, 0.0, 0.0, 0.0, 0.0, 0.0, 0.0, 0.0, ...\n",
       " 239    [0.0, 1.0, 0.0, 0.0, 0.0, 0.0, 1.0, 0.0, 0.0, ...\n",
       " 353    [0.0, 0.0, 0.0, 0.0, 0.0, 0.0, 0.0, 1.0, 0.0, ...\n",
       " 219    [0.0, 0.0, 0.0, 0.0, 0.0, 0.0, 0.0, 0.0, 1.0, ...\n",
       "                              ...                        \n",
       " 71     [0.0, 0.0, 0.0, 0.0, 0.0, 1.0, 1.0, 0.0, 0.0, ...\n",
       " 106    [0.0, 0.0, 0.0, 1.0, 0.0, 0.0, 0.0, 0.0, 0.0, ...\n",
       " 270    [0.0, 0.0, 0.0, 0.0, 0.0, 0.0, 0.0, 0.0, 0.0, ...\n",
       " 348    [1.0, 0.0, 0.0, 0.0, 0.0, 0.0, 0.0, 0.0, 0.0, ...\n",
       " 102    [0.0, 0.0, 1.0, 0.0, 0.0, 0.0, 0.0, 0.0, 0.0, ...\n",
       " Name: label, Length: 312, dtype: object)"
      ]
     },
     "execution_count": 7,
     "metadata": {},
     "output_type": "execute_result"
    }
   ],
   "source": [
    "train_texts,train_labels"
   ]
  }
 ],
 "metadata": {
  "kernelspec": {
   "display_name": "cloudspace",
   "language": "python",
   "name": "python3"
  },
  "language_info": {
   "codemirror_mode": {
    "name": "ipython",
    "version": 3
   },
   "file_extension": ".py",
   "mimetype": "text/x-python",
   "name": "python",
   "nbconvert_exporter": "python",
   "pygments_lexer": "ipython3",
   "version": "3.10.10"
  }
 },
 "nbformat": 4,
 "nbformat_minor": 2
}
