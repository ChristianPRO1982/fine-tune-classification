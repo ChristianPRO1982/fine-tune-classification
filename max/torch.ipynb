{
 "cells": [
  {
   "cell_type": "code",
   "execution_count": null,
   "metadata": {},
   "outputs": [],
   "source": [
    "import pandas as pd\n",
    "from labels import LABELS"
   ]
  },
  {
   "cell_type": "code",
   "execution_count": null,
   "metadata": {},
   "outputs": [],
   "source": [
    "data = \"/teamspace/studios/this_studio/max/dataset_resume.csv\"\n",
    "data = \"./dataset_resume.csv\"\n",
    "df = pd.read_csv(data, usecols=LABELS + ['description', 'resume'])\n"
   ]
  },
  {
   "cell_type": "code",
   "execution_count": null,
   "metadata": {},
   "outputs": [],
   "source": [
    "import numpy as np\n",
    "\n",
    "\n",
    "def setup(df_orig: pd.DataFrame) -> pd.DataFrame:\n",
    "    df = df_orig.copy()\n",
    "    df = df.fillna(0)\n",
    "\n",
    "    for index, row in df.iterrows():\n",
    "        # s'il y a un résumé, on l'utilise comme description\n",
    "        df.loc[index, \"description\"] = (\n",
    "                row.resume\n",
    "                if isinstance(row.resume, str)\n",
    "                else row.description\n",
    "            )\n",
    "\n",
    "    df['label'] = df[LABELS].values.tolist()\n",
    "    df = df.rename(columns={'description': 'text'})\n",
    "    label = [list_label for list_label in df.label]\n",
    "    return df.text.tolist(), label#.astype('float32')\n",
    "\n",
    "features = df[LABELS]\n",
    "\n",
    "texts, labels = setup(df)"
   ]
  },
  {
   "cell_type": "code",
   "execution_count": null,
   "metadata": {},
   "outputs": [],
   "source": [
    "import torch\n",
    "from transformers import CamembertTokenizer, AutoTokenizer\n",
    "from transformers import CamembertForSequenceClassification, AutoModelForSequenceClassification\n",
    "from sklearn.model_selection import train_test_split\n",
    "from torch.utils.data import Dataset"
   ]
  },
  {
   "cell_type": "code",
   "execution_count": null,
   "metadata": {},
   "outputs": [],
   "source": [
    "train_texts, val_texts, train_labels, val_labels = train_test_split(texts, labels, test_size=.2, random_state=42)"
   ]
  },
  {
   "cell_type": "code",
   "execution_count": null,
   "metadata": {},
   "outputs": [],
   "source": [
    "checkpoint = \"almanach/camembert-base\"\n",
    "tokenizer = CamembertTokenizer.from_pretrained(checkpoint)\n",
    "model = CamembertForSequenceClassification.from_pretrained(checkpoint, num_labels=len(labels[0]), problem_type=\"multi_label_classification\")"
   ]
  },
  {
   "cell_type": "code",
   "execution_count": null,
   "metadata": {},
   "outputs": [],
   "source": [
    "class EventDataset(Dataset):\n",
    "    def __init__(self, texts, labels, tokenizer, max_len=256):\n",
    "        self.texts = texts\n",
    "        self.labels = labels\n",
    "        self.tokenizer = tokenizer\n",
    "        self.max_len = max_len\n",
    "\n",
    "    def __len__(self):\n",
    "        return len(self.texts)\n",
    "\n",
    "    def __getitem__(self, index):\n",
    "        text = str(self.texts[index])\n",
    "        label = torch.tensor(self.labels[index])\n",
    "\n",
    "        encoding = self.tokenizer(text, \n",
    "                                  padding=\"max_length\", \n",
    "                                  max_length=self.max_len,\n",
    "                                  truncation=True,\n",
    "                                  return_tensors=\"pt\")\n",
    "\n",
    "        return {\n",
    "            'input_ids': encoding['input_ids'].flatten(),\n",
    "            'attention_mask': encoding['attention_mask'].flatten(),\n",
    "            'labels': label\n",
    "        }"
   ]
  },
  {
   "cell_type": "code",
   "execution_count": null,
   "metadata": {},
   "outputs": [],
   "source": [
    "train_ds = EventDataset(train_texts, train_labels, tokenizer)\n",
    "val_ds = EventDataset(val_texts, val_labels, tokenizer)"
   ]
  },
  {
   "cell_type": "code",
   "execution_count": null,
   "metadata": {},
   "outputs": [],
   "source": [
    "# Multi-Label Classification Evaluation Metrics\n",
    "import numpy as np\n",
    "from sklearn.metrics import roc_auc_score, f1_score, hamming_loss\n",
    "from transformers import EvalPrediction\n",
    "import torch\n",
    "\n",
    "\n",
    "def multi_labels_metrics(predictions, labels, threshold=0.3):\n",
    "  sigmoid = torch.nn.Sigmoid()\n",
    "  probs = sigmoid(torch.Tensor(predictions))\n",
    "\n",
    "  y_pred = np.zeros(probs.shape)\n",
    "  y_pred[np.where(probs>=threshold)] = 1\n",
    "  y_true = labels\n",
    "\n",
    "  f1 = f1_score(y_true, y_pred, average = 'macro')\n",
    "  roc_auc = roc_auc_score(y_true, y_pred, average = 'macro')\n",
    "  hamming = hamming_loss(y_true, y_pred)\n",
    "\n",
    "  metrics = {\n",
    "      \"roc_auc\": roc_auc,\n",
    "      \"hamming_loss\": hamming,\n",
    "      \"f1\": f1\n",
    "  }\n",
    "\n",
    "  return metrics\n",
    "\n",
    "def compute_metrics(p:EvalPrediction):\n",
    "  preds = p.predictions[0] if isinstance(p.predictions, tuple) else p.predictions\n",
    "\n",
    "  result = multi_labels_metrics(predictions=preds,\n",
    "                                labels=p.label_ids)\n",
    "\n",
    "  return result"
   ]
  },
  {
   "cell_type": "code",
   "execution_count": null,
   "metadata": {},
   "outputs": [],
   "source": [
    "# Training Arguments\n",
    "from transformers import TrainingArguments, Trainer, EarlyStoppingCallback\n",
    "\n",
    "args = TrainingArguments(\n",
    "    per_device_train_batch_size=12,\n",
    "    per_device_eval_batch_size=12,\n",
    "    output_dir = './results',\n",
    "    num_train_epochs=300,\n",
    "    save_steps=1000,\n",
    "    save_total_limit=2,\n",
    "    eval_steps=10,\n",
    "    evaluation_strategy = \"epoch\",\n",
    "    save_strategy = 'epoch',\n",
    "    load_best_model_at_end=True\n",
    ")\n",
    "\n",
    "trainer = Trainer(model=model,\n",
    "                  args=args,\n",
    "                  train_dataset=train_ds,\n",
    "                  eval_dataset = val_ds, \n",
    "                  compute_metrics=compute_metrics,\n",
    "                  callbacks=[EarlyStoppingCallback(early_stopping_patience=5)]\n",
    "                  )"
   ]
  },
  {
   "cell_type": "code",
   "execution_count": null,
   "metadata": {},
   "outputs": [],
   "source": [
    "trainer.train()"
   ]
  },
  {
   "cell_type": "code",
   "execution_count": null,
   "metadata": {},
   "outputs": [],
   "source": [
    "trainer.evaluate()"
   ]
  },
  {
   "cell_type": "code",
   "execution_count": null,
   "metadata": {},
   "outputs": [],
   "source": [
    "trainer.save_model(\"/teamspace/studios/this_studio/max/camembert-tourism-events\")"
   ]
  },
  {
   "cell_type": "code",
   "execution_count": null,
   "metadata": {},
   "outputs": [],
   "source": [
    "import pickle\n",
    "with open(\"/teamspace/studios/this_studio/max/features.pkl\", \"wb\") as f:\n",
    "  pickle.dump(features, f)"
   ]
  },
  {
   "cell_type": "code",
   "execution_count": null,
   "metadata": {},
   "outputs": [],
   "source": [
    "text = \"\"\"Après de multiples tournées à succès et plus de 2 millions de billets vendus, Messmer, connu et reconnu comme le Maître Mondial de l’Hypnose revient près de chez vous !\n",
    "\n",
    "Dans 13Hz, Messmer vous invite à entrer dans son mystérieux et hilarant univers où la frontière entre la réalité et l’illusion s’efface, pour diriger vos pensées vers des territoires inconnus.\n",
    "\n",
    "Avec sa présence charismatique inégalée et son talent exceptionnel, le recordman en hypnose collective avec 1066 personnes hypnotisées en moins de 5 minutes, vous plonge au cœur de vos pensées les plus profondes avant de vous guider à travers un jeu subtil d’ondes cérébrales à 13Hz.\n",
    "\n",
    "Le fascinateur vous entraîne vers un état de conscience unique où la volonté et le contrôle de nos vies prennent une nouvelle dimension.\n",
    "\n",
    "Osez découvrir l’expérience Messmer, où la maîtrise de soi et la fascination se rencontrent.\"\"\"\n",
    "\n",
    "encoding = tokenizer(text, return_tensors='pt')\n",
    "encoding.to(trainer.model.device)\n",
    "\n",
    "outputs = trainer.model(**encoding)"
   ]
  },
  {
   "cell_type": "code",
   "execution_count": null,
   "metadata": {},
   "outputs": [],
   "source": [
    "import json\n",
    "sigmoid = torch.nn.Sigmoid()\n",
    "probs = sigmoid(outputs.logits[0].cpu()).detach().numpy()\n",
    "preds = np.zeros(probs.shape)\n",
    "##preds[np.where(probs>=0.3)] = 1\n",
    "\n",
    "\n",
    "def sort_dict_by_value(dict1):\n",
    "  \"\"\"Trie un dictionnaire par ordre décroissant des valeurs.\"\"\"\n",
    "  sorted_dict = {x: y for x, y in sorted(dict1.items(), key=lambda item: item[1], reverse=True)}\n",
    "  return sorted_dict\n",
    "  \n",
    "preds = '{'\n",
    "for idx, label in enumerate(LABELS):\n",
    "    preds += f'\"{label}\": {probs[idx]},'\n",
    "\n",
    "preds = preds.strip(',')\n",
    "preds += '}'\n",
    "preds = json.loads(preds)\n",
    "sort_dict_by_value(preds)"
   ]
  },
  {
   "cell_type": "markdown",
   "metadata": {},
   "source": [
    "# Utilisation d'un modèle enregistré en local"
   ]
  },
  {
   "cell_type": "code",
   "execution_count": 47,
   "metadata": {},
   "outputs": [],
   "source": [
    "model = CamembertForSequenceClassification.from_pretrained('./camembert-tourism-events')"
   ]
  },
  {
   "cell_type": "code",
   "execution_count": 48,
   "metadata": {},
   "outputs": [],
   "source": [
    "text = \"\"\"Après de multiples tournées à succès et plus de 2 millions de billets vendus, Messmer, connu et reconnu comme le Maître Mondial de l’Hypnose revient près de chez vous !\n",
    "\n",
    "Dans 13Hz, Messmer vous invite à entrer dans son mystérieux et hilarant univers où la frontière entre la réalité et l’illusion s’efface, pour diriger vos pensées vers des territoires inconnus.\n",
    "\n",
    "Avec sa présence charismatique inégalée et son talent exceptionnel, le recordman en hypnose collective avec 1066 personnes hypnotisées en moins de 5 minutes, vous plonge au cœur de vos pensées les plus profondes avant de vous guider à travers un jeu subtil d’ondes cérébrales à 13Hz.\n",
    "\n",
    "Le fascinateur vous entraîne vers un état de conscience unique où la volonté et le contrôle de nos vies prennent une nouvelle dimension.\n",
    "\n",
    "Osez découvrir l’expérience Messmer, où la maîtrise de soi et la fascination se rencontrent.\"\"\"\n",
    "\n",
    "encoding = tokenizer(text, return_tensors='pt')\n",
    "encoding.to(trainer.model.device)\n",
    "\n",
    "outputs = trainer.model(**encoding)"
   ]
  },
  {
   "cell_type": "code",
   "execution_count": 49,
   "metadata": {},
   "outputs": [
    {
     "data": {
      "text/plain": [
       "{'Brocante': 0.5014354586601257,\n",
       " 'Festival': 0.496290385723114,\n",
       " 'Culture': 0.49298417568206787,\n",
       " 'Exposition': 0.49059388041496277,\n",
       " 'Action': 0.4885813593864441,\n",
       " 'Balade': 0.4874850809574127,\n",
       " 'Gastronomie': 0.48692554235458374,\n",
       " 'Fête': 0.4864422380924225,\n",
       " 'Famille': 0.4856192469596863,\n",
       " 'Spectacle': 0.48173367977142334,\n",
       " 'Jeu': 0.4791945219039917,\n",
       " 'Santé': 0.47722187638282776,\n",
       " 'Théatre': 0.47510436177253723,\n",
       " 'Marché': 0.47184333205223083,\n",
       " 'Concert': 0.47170743346214294,\n",
       " 'Atelier': 0.46970421075820923,\n",
       " 'Détente': 0.46968236565589905,\n",
       " 'Danse': 0.4673236906528473,\n",
       " 'Visite': 0.4669744670391083,\n",
       " 'Conférence': 0.4638778865337372,\n",
       " 'Environnement': 0.46037420630455017,\n",
       " 'Art': 0.45369207859039307,\n",
       " 'Histoire': 0.45325541496276855,\n",
       " 'Sport': 0.45077407360076904}"
      ]
     },
     "execution_count": 49,
     "metadata": {},
     "output_type": "execute_result"
    }
   ],
   "source": [
    "import json\n",
    "sigmoid = torch.nn.Sigmoid()\n",
    "probs = sigmoid(outputs.logits[0].cpu()).detach().numpy()\n",
    "preds = np.zeros(probs.shape)\n",
    "##preds[np.where(probs>=0.3)] = 1\n",
    "\n",
    "\n",
    "def sort_dict_by_value(dict1):\n",
    "  \"\"\"Trie un dictionnaire par ordre décroissant des valeurs.\"\"\"\n",
    "  sorted_dict = {x: y for x, y in sorted(dict1.items(), key=lambda item: item[1], reverse=True)}\n",
    "  return sorted_dict\n",
    "  \n",
    "preds = '{'\n",
    "for idx, label in enumerate(LABELS):\n",
    "    preds += f'\"{label}\": {probs[idx]},'\n",
    "\n",
    "preds = preds.strip(',')\n",
    "preds += '}'\n",
    "preds = json.loads(preds)\n",
    "sort_dict_by_value(preds)"
   ]
  }
 ],
 "metadata": {
  "kernelspec": {
   "display_name": "cloudspace",
   "language": "python",
   "name": "python3"
  },
  "language_info": {
   "codemirror_mode": {
    "name": "ipython",
    "version": 3
   },
   "file_extension": ".py",
   "mimetype": "text/x-python",
   "name": "python",
   "nbconvert_exporter": "python",
   "pygments_lexer": "ipython3",
   "version": "3.12.0"
  }
 },
 "nbformat": 4,
 "nbformat_minor": 2
}
