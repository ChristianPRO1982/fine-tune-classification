{
  "cells": [
    {
      "cell_type": "code",
      "execution_count": 10,
      "metadata": {
        "id": "2Z6F2xA9OZEo"
      },
      "outputs": [
        {
          "name": "stderr",
          "output_type": "stream",
          "text": [
            "/Users/maximekuil/Documents/Simplon/fine-tune-classification/.venv/lib/python3.12/site-packages/tqdm/auto.py:21: TqdmWarning: IProgress not found. Please update jupyter and ipywidgets. See https://ipywidgets.readthedocs.io/en/stable/user_install.html\n",
            "  from .autonotebook import tqdm as notebook_tqdm\n"
          ]
        }
      ],
      "source": [
        "from transformers import pipeline, AutoTokenizer, CamembertForSequenceClassification\n",
        "from sklearn.model_selection import train_test_split\n",
        "import torch\n",
        "import torch.nn as nn\n",
        "from torch.utils.data import Dataset, DataLoader\n",
        "import datasets\n",
        "from datasets import load_dataset, Dataset\n",
        "from sklearn.model_selection import train_test_split\n",
        "\n",
        "import matplotlib.pyplot as plt\n",
        "import seaborn as sns\n",
        "import numpy as np\n",
        "\n",
        "from labels import LABELS"
      ]
    },
    {
      "cell_type": "markdown",
      "metadata": {
        "id": "MB2DE4D4OjUH"
      },
      "source": [
        "# Définition du modèle"
      ]
    },
    {
      "cell_type": "code",
      "execution_count": 3,
      "metadata": {
        "id": "5qLCoAvMOR60"
      },
      "outputs": [],
      "source": [
        "# https://camembert-model.fr/posts/tutorial/#:~:text=Il%20faut%20enfin%20s'assurer,cette%20limite%20de%20512%20tokens.\n",
        "model_name = \"mtheo/camembert-base-xnli\"\n",
        "candidate_labels=list(map(lambda x: x.lower(), LABELS))\n"
      ]
    },
    {
      "cell_type": "code",
      "execution_count": 5,
      "metadata": {
        "colab": {
          "base_uri": "https://localhost:8080/",
          "height": 213
        },
        "id": "WcqdDaVqIikT",
        "outputId": "f729cae3-3a46-4e5f-9936-11d1fb225008"
      },
      "outputs": [
        {
          "data": {
            "text/html": [
              "<div>\n",
              "<style scoped>\n",
              "    .dataframe tbody tr th:only-of-type {\n",
              "        vertical-align: middle;\n",
              "    }\n",
              "\n",
              "    .dataframe tbody tr th {\n",
              "        vertical-align: top;\n",
              "    }\n",
              "\n",
              "    .dataframe thead th {\n",
              "        text-align: right;\n",
              "    }\n",
              "</style>\n",
              "<table border=\"1\" class=\"dataframe\">\n",
              "  <thead>\n",
              "    <tr style=\"text-align: right;\">\n",
              "      <th></th>\n",
              "      <th>Unnamed: 0</th>\n",
              "      <th>url</th>\n",
              "      <th>title</th>\n",
              "      <th>description</th>\n",
              "      <th>cat1</th>\n",
              "      <th>cat2</th>\n",
              "      <th>cat3</th>\n",
              "    </tr>\n",
              "  </thead>\n",
              "  <tbody>\n",
              "    <tr>\n",
              "      <th>0</th>\n",
              "      <td>0</td>\n",
              "      <td>https://www.tourisme-cambresis.fr/1-les-templi...</td>\n",
              "      <td>Aventure-jeu : \"Les Templiers du coffre d'or\"</td>\n",
              "      <td>Le jeu aventure « Les templiers du coffre d’or...</td>\n",
              "      <td>Jeu</td>\n",
              "      <td>Famille</td>\n",
              "      <td>Détente</td>\n",
              "    </tr>\n",
              "    <tr>\n",
              "      <th>1</th>\n",
              "      <td>1</td>\n",
              "      <td>https://www.tourisme-cambresis.fr/exposition-t...</td>\n",
              "      <td>Exposition \"le tank dans tous ses états\"</td>\n",
              "      <td>L'apparition des tanks, arme de guerre incarna...</td>\n",
              "      <td>Exposition</td>\n",
              "      <td>Culture</td>\n",
              "      <td>NaN</td>\n",
              "    </tr>\n",
              "    <tr>\n",
              "      <th>2</th>\n",
              "      <td>1</td>\n",
              "      <td>https://www.tourisme-cambresis.fr/femme-premie...</td>\n",
              "      <td>Exposition \"La femme au premier millénaire\"</td>\n",
              "      <td>L’exposition vous invite à une plongée au cœur...</td>\n",
              "      <td>Exposition</td>\n",
              "      <td>Culture</td>\n",
              "      <td>NaN</td>\n",
              "    </tr>\n",
              "  </tbody>\n",
              "</table>\n",
              "</div>"
            ],
            "text/plain": [
              "   Unnamed: 0                                                url  \\\n",
              "0           0  https://www.tourisme-cambresis.fr/1-les-templi...   \n",
              "1           1  https://www.tourisme-cambresis.fr/exposition-t...   \n",
              "2           1  https://www.tourisme-cambresis.fr/femme-premie...   \n",
              "\n",
              "                                           title  \\\n",
              "0  Aventure-jeu : \"Les Templiers du coffre d'or\"   \n",
              "1       Exposition \"le tank dans tous ses états\"   \n",
              "2    Exposition \"La femme au premier millénaire\"   \n",
              "\n",
              "                                         description        cat1     cat2  \\\n",
              "0  Le jeu aventure « Les templiers du coffre d’or...         Jeu  Famille   \n",
              "1  L'apparition des tanks, arme de guerre incarna...  Exposition  Culture   \n",
              "2  L’exposition vous invite à une plongée au cœur...  Exposition  Culture   \n",
              "\n",
              "      cat3  \n",
              "0  Détente  \n",
              "1      NaN  \n",
              "2      NaN  "
            ]
          },
          "execution_count": 5,
          "metadata": {},
          "output_type": "execute_result"
        }
      ],
      "source": [
        "import pandas as pd\n",
        "\n",
        "data = \"../dataset.csv\"\n",
        "\n",
        "df = pd.read_csv(data)\n",
        "df.head(3)"
      ]
    },
    {
      "cell_type": "markdown",
      "metadata": {
        "id": "PSQgasSni8a8"
      },
      "source": [
        "# clean"
      ]
    },
    {
      "cell_type": "code",
      "execution_count": 7,
      "metadata": {
        "colab": {
          "base_uri": "https://localhost:8080/",
          "height": 300
        },
        "id": "-ldJTCH0i73E",
        "outputId": "819c7d38-cb34-4167-bd7c-0356e44742cf"
      },
      "outputs": [
        {
          "data": {
            "text/html": [
              "<div>\n",
              "<style scoped>\n",
              "    .dataframe tbody tr th:only-of-type {\n",
              "        vertical-align: middle;\n",
              "    }\n",
              "\n",
              "    .dataframe tbody tr th {\n",
              "        vertical-align: top;\n",
              "    }\n",
              "\n",
              "    .dataframe thead th {\n",
              "        text-align: right;\n",
              "    }\n",
              "</style>\n",
              "<table border=\"1\" class=\"dataframe\">\n",
              "  <thead>\n",
              "    <tr style=\"text-align: right;\">\n",
              "      <th></th>\n",
              "      <th>title</th>\n",
              "      <th>description</th>\n",
              "      <th>Balade</th>\n",
              "      <th>Spectacle</th>\n",
              "      <th>Culture</th>\n",
              "      <th>Détente</th>\n",
              "      <th>Fête</th>\n",
              "      <th>Gastronomie</th>\n",
              "      <th>Famille</th>\n",
              "      <th>Sport</th>\n",
              "      <th>...</th>\n",
              "      <th>Concert</th>\n",
              "      <th>Exposition</th>\n",
              "      <th>Jeu</th>\n",
              "      <th>Visite</th>\n",
              "      <th>Histoire</th>\n",
              "      <th>Art</th>\n",
              "      <th>Brocante</th>\n",
              "      <th>Action</th>\n",
              "      <th>Santé</th>\n",
              "      <th>Conférence</th>\n",
              "    </tr>\n",
              "  </thead>\n",
              "  <tbody>\n",
              "    <tr>\n",
              "      <th>0</th>\n",
              "      <td>Aventure-jeu : \"Les Templiers du coffre d'or\"</td>\n",
              "      <td>Le jeu aventure « Les templiers du coffre d’or...</td>\n",
              "      <td>0</td>\n",
              "      <td>0</td>\n",
              "      <td>0</td>\n",
              "      <td>1</td>\n",
              "      <td>0</td>\n",
              "      <td>0</td>\n",
              "      <td>1</td>\n",
              "      <td>0</td>\n",
              "      <td>...</td>\n",
              "      <td>0</td>\n",
              "      <td>0</td>\n",
              "      <td>1</td>\n",
              "      <td>0</td>\n",
              "      <td>0</td>\n",
              "      <td>0</td>\n",
              "      <td>0</td>\n",
              "      <td>0</td>\n",
              "      <td>0</td>\n",
              "      <td>0</td>\n",
              "    </tr>\n",
              "    <tr>\n",
              "      <th>1</th>\n",
              "      <td>Exposition \"le tank dans tous ses états\"</td>\n",
              "      <td>L'apparition des tanks, arme de guerre incarna...</td>\n",
              "      <td>0</td>\n",
              "      <td>0</td>\n",
              "      <td>1</td>\n",
              "      <td>0</td>\n",
              "      <td>0</td>\n",
              "      <td>0</td>\n",
              "      <td>0</td>\n",
              "      <td>0</td>\n",
              "      <td>...</td>\n",
              "      <td>0</td>\n",
              "      <td>1</td>\n",
              "      <td>0</td>\n",
              "      <td>0</td>\n",
              "      <td>0</td>\n",
              "      <td>0</td>\n",
              "      <td>0</td>\n",
              "      <td>0</td>\n",
              "      <td>0</td>\n",
              "      <td>0</td>\n",
              "    </tr>\n",
              "  </tbody>\n",
              "</table>\n",
              "<p>2 rows × 26 columns</p>\n",
              "</div>"
            ],
            "text/plain": [
              "                                           title  \\\n",
              "0  Aventure-jeu : \"Les Templiers du coffre d'or\"   \n",
              "1       Exposition \"le tank dans tous ses états\"   \n",
              "\n",
              "                                         description  Balade  Spectacle  \\\n",
              "0  Le jeu aventure « Les templiers du coffre d’or...       0          0   \n",
              "1  L'apparition des tanks, arme de guerre incarna...       0          0   \n",
              "\n",
              "   Culture  Détente  Fête  Gastronomie  Famille  Sport  ...  Concert  \\\n",
              "0        0        1     0            0        1      0  ...        0   \n",
              "1        1        0     0            0        0      0  ...        0   \n",
              "\n",
              "   Exposition  Jeu  Visite  Histoire  Art  Brocante  Action  Santé  Conférence  \n",
              "0           0    1       0         0    0         0       0      0           0  \n",
              "1           1    0       0         0    0         0       0      0           0  \n",
              "\n",
              "[2 rows x 26 columns]"
            ]
          },
          "execution_count": 7,
          "metadata": {},
          "output_type": "execute_result"
        }
      ],
      "source": [
        "df_new = df.copy()\n",
        "for label in LABELS:\n",
        "  df_new.insert(df_new.shape[1], label, pd.Series(0, dtype=int, index=range(df_new.shape[0])))\n",
        "\n",
        "for row in df_new.iterrows():\n",
        "  for cat in ['cat1', 'cat2', 'cat3']:\n",
        "    for cat_col in LABELS:\n",
        "      if row[1].loc[cat] == cat_col:\n",
        "        df_new.at[row[0], cat_col] = 1\n",
        "        break\n",
        "\n",
        "df_new.drop(columns=['cat1', 'cat2', 'cat3', 'url'], inplace=True)\n",
        "df_new = df_new.iloc[:, 1:]\n",
        "df_new.head(2)"
      ]
    },
    {
      "cell_type": "code",
      "execution_count": 11,
      "metadata": {
        "colab": {
          "base_uri": "https://localhost:8080/"
        },
        "id": "lD0dGtTm1rd6",
        "outputId": "a80e1f43-3eac-468e-a561-4b3c836f21a2"
      },
      "outputs": [
        {
          "name": "stdout",
          "output_type": "stream",
          "text": [
            "0\n"
          ]
        }
      ],
      "source": [
        "print(df_new.description.isnull().sum())\n",
        "\n",
        "df_new.dropna(subset=['description'], inplace=True)"
      ]
    },
    {
      "cell_type": "markdown",
      "metadata": {
        "id": "lfdB80h365bA"
      },
      "source": [
        "# split"
      ]
    },
    {
      "cell_type": "code",
      "execution_count": 12,
      "metadata": {
        "colab": {
          "base_uri": "https://localhost:8080/",
          "height": 449
        },
        "id": "1vP9HXTt65Bz",
        "outputId": "a4443c6f-9ff1-48f2-99e6-b1417f547e50"
      },
      "outputs": [
        {
          "data": {
            "image/png": "[encoded data removed]",
            "text/plain": [
              "<Figure size 640x480 with 1 Axes>"
            ]
          },
          "metadata": {},
          "output_type": "display_data"
        }
      ],
      "source": [
        "train_df, val_df = train_test_split(df_new, test_size=.2, shuffle=True, random_state=42)\n",
        "#train_df[LABELS].sum().sort_values().plot(kind='barh')\n",
        "#val_df[LABELS].sum().sort_values().plot(kind='barh')\n",
        "\n",
        "plt.barh(np.arange(len(LABELS)) + .2, train_df[LABELS].sum(), 0.4, label = 'Train')\n",
        "plt.barh(np.arange(len(LABELS)) - .2, val_df[LABELS].sum(), 0.4, label = 'Val')\n",
        "\n",
        "plt.yticks(np.arange(len(LABELS)), LABELS)\n",
        "plt.xlabel(\"NB\")\n",
        "plt.ylabel(\"Label\")\n",
        "plt.legend()\n",
        "plt.show()\n"
      ]
    },
    {
      "cell_type": "code",
      "execution_count": 13,
      "metadata": {
        "id": "Sh6YUwDxQzbW"
      },
      "outputs": [],
      "source": [
        "X = df_new.drop(columns=LABELS)\n",
        "y = np.array(df_new.drop(columns=['description', 'title']))\n",
        "\n",
        "X_train, X_test, y_train, y_test = train_test_split(X, y,\n",
        "                                                   test_size=0.2,\n",
        "                                                   random_state = 42,\n",
        "                                                   #stratify = y,\n",
        "                                                   shuffle=True)\n",
        "\n",
        "# ds = Dataset.from_pandas(df_new, split=\"train\")\n",
        "\n",
        "# sample = ds.shuffle(seed=333).select(range(3))\n",
        "# for description, title in zip(sample[\"title\"], sample[\"description\"]):\n",
        "#     print(f\">> Title: {title}\\n\")\n",
        "#     print(f\">> description: {description}\")"
      ]
    },
    {
      "cell_type": "code",
      "execution_count": 14,
      "metadata": {
        "id": "VeTYJkKqsTMV"
      },
      "outputs": [],
      "source": [
        "class EventDataset(Dataset):\n",
        "  def __init__(\n",
        "    self,\n",
        "    data: pd.DataFrame,\n",
        "    tokenizer = None,\n",
        "    max_token_len: int = 128\n",
        "  ):\n",
        "    self.df = data\n",
        "    self.tokenizer = tokenizer if tokenizer is not None else AutoTokenizer.from_pretrained(\"camembert-base\")\n",
        "    self.max_token_len = max_token_len\n",
        "\n",
        "  def __len__(self):\n",
        "    return len(self.df)\n",
        "\n",
        "  def __getitem__(self, index: int):\n",
        "    data_row = self.df.iloc[index]\n",
        "\n",
        "    description_text = data_row.description\n",
        "    labels = data_row[LABELS]\n",
        "\n",
        "    self.encoding = self.tokenizer.encode_plus(\n",
        "      description_text,\n",
        "      add_special_tokens=True,\n",
        "      max_length=self.max_token_len,\n",
        "      return_token_type_ids=False,\n",
        "      padding=\"max_length\",\n",
        "      truncation=True,\n",
        "      return_attention_mask=True,\n",
        "      return_tensors='pt',\n",
        "    )\n",
        "\n",
        "    return dict(\n",
        "      description_text=description_text.strip().replace('\\n', ' '),\n",
        "      input_ids=self.encoding[\"input_ids\"].flatten(),\n",
        "      attention_mask=self.encoding[\"attention_mask\"].flatten(),\n",
        "      labels=torch.FloatTensor(labels)\n",
        "    )\n",
        "\n",
        "  def tokenized_str(self, input_id):\n",
        "    return self.tokenizer.convert_ids_to_tokens(input_id.squeeze())"
      ]
    },
    {
      "cell_type": "markdown",
      "metadata": {
        "id": "vkQXZzy_0bwP"
      },
      "source": [
        "Pour savoir le nombre de token dans les descriptions"
      ]
    },
    {
      "cell_type": "code",
      "execution_count": 15,
      "metadata": {
        "colab": {
          "base_uri": "https://localhost:8080/",
          "height": 448
        },
        "id": "dzF2wYRn0a_z",
        "outputId": "7494e3b8-71a5-4be8-c227-43cb2b6e3e6a"
      },
      "outputs": [
        {
          "name": "stderr",
          "output_type": "stream",
          "text": [
            "/Users/maximekuil/Documents/Simplon/fine-tune-classification/.venv/lib/python3.12/site-packages/huggingface_hub/file_download.py:1132: FutureWarning: `resume_download` is deprecated and will be removed in version 1.0.0. Downloads always resume when possible. If you want to force a new download, use `force_download=True`.\n",
            "  warnings.warn(\n"
          ]
        },
        {
          "name": "stdout",
          "output_type": "stream",
          "text": [
            "True\n"
          ]
        },
        {
          "data": {
            "image/png": "[encoded data removed]",
            "text/plain": [
              "<Figure size 640x480 with 1 Axes>"
            ]
          },
          "metadata": {},
          "output_type": "display_data"
        }
      ],
      "source": [
        "tokenizer = AutoTokenizer.from_pretrained(\"camembert-base\")\n",
        "token_counts = []\n",
        "\n",
        "for _, row in train_df.iterrows():\n",
        "  token_count = len(tokenizer.encode(\n",
        "    row[\"description\"],\n",
        "    max_length=512,\n",
        "    truncation=True\n",
        "  ))\n",
        "  token_counts.append(token_count)\n",
        "\n",
        "sns.histplot(token_counts)\n",
        "plt.xlim([0, 512])\n",
        "\n",
        "print((train_df[\"description\"].apply(lambda x: len(x)) > 512).any())"
      ]
    },
    {
      "cell_type": "code",
      "execution_count": 16,
      "metadata": {
        "colab": {
          "base_uri": "https://localhost:8080/",
          "height": 91
        },
        "id": "mycrcDHdtwWp",
        "outputId": "eda24a96-4764-41f5-8b46-d90a4a6c3ad4"
      },
      "outputs": [
        {
          "name": "stderr",
          "output_type": "stream",
          "text": [
            "/var/folders/zp/c97k147160ddnklbfc2rk3hr0000gn/T/ipykernel_21502/983273034.py:36: FutureWarning: Series.__getitem__ treating keys as positions is deprecated. In a future version, integer keys will always be treated as labels (consistent with DataFrame behavior). To access a value by position, use `ser.iloc[pos]`\n",
            "  labels=torch.FloatTensor(labels)\n"
          ]
        },
        {
          "data": {
            "text/plain": [
              "dict_keys(['description_text', 'input_ids', 'attention_mask', 'labels'])"
            ]
          },
          "metadata": {},
          "output_type": "display_data"
        },
        {
          "name": "stdout",
          "output_type": "stream",
          "text": [
            "L'apparition des tanks, arme de guerre incarnant une nouvelle dimension de la guerre moderne, va donner lieu au développement d'un équipement spécifique et à la production de nombreux objets à son image (affiches, photos, cartes postales, objets de la vie quotidienne...)  Fruit d'un long travail de recherche et de collecte, cette exposition présente une série inédite d'objets ayant trait à l'usage et l'image du tank.     Le centre d'interprétation de la Bataille de Cambrai est ouvert durant toutes les vacances d'été de 14h à 17h30.\n",
            "['<s>', '▁L', \"'\", 'apparition', '▁des', '▁tank', 's', ',', '▁arme', '▁de', '▁guerre', '▁in', 'car', 'nant', '▁une', '▁nouvelle', '▁dimension', '▁de', '▁la', '▁guerre', '▁moderne', ',', '▁va', '▁donner', '▁lieu', '▁au', '▁développement', '▁d', \"'\", 'un', '▁équipement', '▁spécifique', '▁et', '▁à', '▁la', '▁production', '▁de', '▁nombreux', '▁objets', '▁à', '▁son', '▁image', '▁(', 'affiche', 's', ',', '▁photos', ',', '▁cartes', '▁postales', ',', '▁objets', '▁de', '▁la', '▁vie', '▁quotidienne', '...)', '▁Fruit', '▁d', \"'\", 'un', '▁long', '▁travail', '▁de', '▁recherche', '▁et', '▁de', '▁collecte', ',', '▁cette', '▁exposition', '▁présente', '▁une', '▁série', '▁inédite', '▁d', \"'\", 'objets', '▁ayant', '▁trait', '▁à', '▁l', \"'\", 'usage', '▁et', '▁l', \"'\", 'image', '▁du', '▁tank', '.', '▁Le', '▁centre', '▁d', \"'\", 'interprétation', '▁de', '▁la', '▁Bataille', '▁de', '▁Cambrai', '▁est', '▁ouvert', '▁durant', '▁toutes', '▁les', '▁vacances', '▁d', \"'\", 'été', '▁de', '▁14', 'h', '▁à', '▁17', 'h', '30.', '</s>', '<pad>', '<pad>', '<pad>', '<pad>', '<pad>', '<pad>', '<pad>', '<pad>', '<pad>', '<pad>', '<pad>', '<pad>', '<pad>', '<pad>', '<pad>', '<pad>', '<pad>', '<pad>', '<pad>', '<pad>', '<pad>', '<pad>', '<pad>', '<pad>', '<pad>', '<pad>', '<pad>', '<pad>', '<pad>', '<pad>', '<pad>', '<pad>', '<pad>', '<pad>', '<pad>', '<pad>', '<pad>', '<pad>', '<pad>', '<pad>', '<pad>', '<pad>', '<pad>', '<pad>', '<pad>', '<pad>', '<pad>', '<pad>', '<pad>', '<pad>', '<pad>', '<pad>', '<pad>', '<pad>', '<pad>', '<pad>', '<pad>', '<pad>', '<pad>', '<pad>', '<pad>', '<pad>', '<pad>', '<pad>', '<pad>', '<pad>', '<pad>', '<pad>', '<pad>', '<pad>', '<pad>', '<pad>', '<pad>', '<pad>', '<pad>', '<pad>', '<pad>', '<pad>', '<pad>', '<pad>', '<pad>', '<pad>', '<pad>', '<pad>', '<pad>', '<pad>', '<pad>', '<pad>', '<pad>', '<pad>', '<pad>', '<pad>', '<pad>', '<pad>', '<pad>', '<pad>', '<pad>', '<pad>', '<pad>', '<pad>', '<pad>', '<pad>', '<pad>', '<pad>', '<pad>', '<pad>', '<pad>', '<pad>', '<pad>', '<pad>', '<pad>', '<pad>', '<pad>', '<pad>', '<pad>', '<pad>', '<pad>', '<pad>', '<pad>', '<pad>', '<pad>', '<pad>', '<pad>', '<pad>', '<pad>', '<pad>', '<pad>', '<pad>', '<pad>', '<pad>', '<pad>', '<pad>', '<pad>', '<pad>', '<pad>', '<pad>', '<pad>', '<pad>', '<pad>', '<pad>', '<pad>', '<pad>', '<pad>', '<pad>', '<pad>', '<pad>', '<pad>', '<pad>', '<pad>', '<pad>', '<pad>', '<pad>', '<pad>', '<pad>', '<pad>', '<pad>', '<pad>', '<pad>', '<pad>', '<pad>', '<pad>', '<pad>', '<pad>', '<pad>', '<pad>', '<pad>', '<pad>', '<pad>', '<pad>', '<pad>', '<pad>', '<pad>', '<pad>', '<pad>', '<pad>', '<pad>', '<pad>', '<pad>', '<pad>', '<pad>', '<pad>', '<pad>', '<pad>', '<pad>', '<pad>', '<pad>', '<pad>', '<pad>', '<pad>', '<pad>', '<pad>', '<pad>', '<pad>', '<pad>', '<pad>', '<pad>', '<pad>', '<pad>', '<pad>', '<pad>', '<pad>', '<pad>', '<pad>', '<pad>', '<pad>', '<pad>', '<pad>', '<pad>', '<pad>', '<pad>', '<pad>', '<pad>', '<pad>', '<pad>', '<pad>', '<pad>', '<pad>', '<pad>', '<pad>', '<pad>', '<pad>', '<pad>', '<pad>', '<pad>', '<pad>', '<pad>', '<pad>', '<pad>', '<pad>', '<pad>', '<pad>', '<pad>', '<pad>', '<pad>', '<pad>', '<pad>', '<pad>', '<pad>', '<pad>', '<pad>', '<pad>', '<pad>', '<pad>', '<pad>', '<pad>', '<pad>', '<pad>', '<pad>', '<pad>', '<pad>', '<pad>', '<pad>', '<pad>', '<pad>', '<pad>', '<pad>', '<pad>', '<pad>', '<pad>', '<pad>', '<pad>', '<pad>', '<pad>', '<pad>', '<pad>', '<pad>', '<pad>', '<pad>', '<pad>', '<pad>', '<pad>', '<pad>', '<pad>', '<pad>', '<pad>', '<pad>', '<pad>', '<pad>', '<pad>', '<pad>', '<pad>', '<pad>', '<pad>', '<pad>', '<pad>', '<pad>', '<pad>', '<pad>', '<pad>', '<pad>', '<pad>', '<pad>', '<pad>', '<pad>', '<pad>', '<pad>', '<pad>', '<pad>', '<pad>', '<pad>', '<pad>', '<pad>', '<pad>', '<pad>', '<pad>', '<pad>', '<pad>', '<pad>', '<pad>', '<pad>', '<pad>', '<pad>', '<pad>', '<pad>', '<pad>', '<pad>', '<pad>', '<pad>', '<pad>', '<pad>', '<pad>', '<pad>', '<pad>', '<pad>', '<pad>', '<pad>', '<pad>', '<pad>', '<pad>', '<pad>', '<pad>', '<pad>', '<pad>', '<pad>', '<pad>', '<pad>', '<pad>', '<pad>', '<pad>', '<pad>', '<pad>', '<pad>', '<pad>', '<pad>', '<pad>', '<pad>', '<pad>', '<pad>', '<pad>', '<pad>', '<pad>', '<pad>', '<pad>', '<pad>', '<pad>', '<pad>', '<pad>', '<pad>', '<pad>', '<pad>', '<pad>', '<pad>', '<pad>', '<pad>', '<pad>', '<pad>', '<pad>', '<pad>', '<pad>', '<pad>', '<pad>', '<pad>', '<pad>', '<pad>', '<pad>', '<pad>', '<pad>', '<pad>', '<pad>', '<pad>', '<pad>', '<pad>', '<pad>', '<pad>', '<pad>', '<pad>', '<pad>', '<pad>', '<pad>', '<pad>', '<pad>', '<pad>', '<pad>', '<pad>']\n"
          ]
        }
      ],
      "source": [
        "tokenizer = None\n",
        "\n",
        "train_dataset = EventDataset(df_new, tokenizer=tokenizer, max_token_len=512)\n",
        "\n",
        "sample_item = train_dataset[1]\n",
        "display(sample_item.keys())\n",
        "\n",
        "print(sample_item['description_text'])\n",
        "\n",
        "print(train_dataset.tokenized_str(sample_item['input_ids']))"
      ]
    },
    {
      "cell_type": "markdown",
      "metadata": {
        "id": "lTX2uY6gOq5k"
      },
      "source": [
        "# test brut"
      ]
    },
    {
      "cell_type": "code",
      "execution_count": null,
      "metadata": {
        "colab": {
          "base_uri": "https://localhost:8080/",
          "height": 1000
        },
        "id": "L_ggb3G7hkxk",
        "outputId": "d1575087-7614-404d-a409-6cb9deac96aa"
      },
      "outputs": [
        {
          "data": {
            "text/plain": [
              "{'sequence': 'Uramado AR est un parcours en réalité augmentée de l’artiste illustratrice Julie Stephen Chheng.\\n\\nCette exposition ludique et poétique nous invite à suivre des Tanukis, yokai (esprit) de la forêt emblématique de la culture folklorique japonaise.\\n\\nSous son aspect de petit animal malicieux la peau du ventre bien tendue, se cache une créature bien singulière !\\n\\nCette exposition pour petits et grands invite à questionner nos différences en créant une narration où le réel se mêle à l’imaginaire et se décline à l’infini.\\n\\nDes Tanukis se sont installés dans 8 médiathèques. Allez-vous réussir à les trouver et répondre à leurs questions ?\\n\\nPour participer à cette chasse aux trésors, il suffit de se rendre dans l’une des médiathèques participantes et de télécharger l’application gratuite URAMADO AR, le réveil des Tanukis (sur iOS et Android).\\n\\nAu fur et à mesure de la découverte, les esprits s’animent, s’étonnent et vous questionnent. En fonction de vos réponses, vous découvrirez à la fin du parcours, quel esprit êtes-vous !',\n",
              " 'labels': ['jeu',\n",
              "  'visite',\n",
              "  'spectacle',\n",
              "  'exposition',\n",
              "  'détente',\n",
              "  'balade',\n",
              "  'art',\n",
              "  'histoire',\n",
              "  'action',\n",
              "  'marché',\n",
              "  'fête',\n",
              "  'culture',\n",
              "  'atelier',\n",
              "  'famille',\n",
              "  'festival',\n",
              "  'environnement',\n",
              "  'santé',\n",
              "  'théatre',\n",
              "  'sport',\n",
              "  'conférence',\n",
              "  'danse',\n",
              "  'concert',\n",
              "  'gastronomie',\n",
              "  'brocante'],\n",
              " 'scores': [0.10966450721025467,\n",
              "  0.10015806555747986,\n",
              "  0.08444304764270782,\n",
              "  0.0812007337808609,\n",
              "  0.07818827778100967,\n",
              "  0.07274558395147324,\n",
              "  0.06370075792074203,\n",
              "  0.055269885808229446,\n",
              "  0.054484136402606964,\n",
              "  0.047412242740392685,\n",
              "  0.045788802206516266,\n",
              "  0.037826087325811386,\n",
              "  0.0332828126847744,\n",
              "  0.01893446408212185,\n",
              "  0.01689368672668934,\n",
              "  0.014065934345126152,\n",
              "  0.012553364038467407,\n",
              "  0.012192587368190289,\n",
              "  0.011303066276013851,\n",
              "  0.010576194152235985,\n",
              "  0.010395707562565804,\n",
              "  0.010360348969697952,\n",
              "  0.009414736181497574,\n",
              "  0.009144949726760387]}"
            ]
          },
          "metadata": {},
          "output_type": "display_data"
        }
      ],
      "source": [
        "str_test1 = df.loc[0][\"description\"]\n",
        "str_test2 = df.loc[146][\"description\"]\n",
        "\n",
        "str_test = str_test2\n",
        "\n",
        "tokenizer = AutoTokenizer.from_pretrained(model_name)\n",
        "model = CamembertForSequenceClassification.from_pretrained(model_name)\n",
        "\n",
        "classifier = pipeline(task=\"zero-shot-classification\", model=model, tokenizer=tokenizer)\n",
        "res = classifier(str_test, candidate_labels=candidate_labels)\n",
        "\n",
        "# t = tokenizer(str_test)\n",
        "# print(tokenizer.tokenize(str_test))\n",
        "display(res)"
      ]
    },
    {
      "cell_type": "markdown",
      "metadata": {
        "id": "heYyTQ6UOLJP"
      },
      "source": [
        "# fine tune"
      ]
    },
    {
      "cell_type": "code",
      "execution_count": null,
      "metadata": {
        "colab": {
          "base_uri": "https://localhost:8080/",
          "height": 350
        },
        "id": "7yMx9eYDOOa3",
        "outputId": "b508d54c-2c8b-492a-f53d-0780dfc2925c"
      },
      "outputs": [
        {
          "ename": "ModuleNotFoundError",
          "evalue": "No module named 'setfit'",
          "output_type": "error",
          "traceback": [
            "\u001b[0;31m---------------------------------------------------------------------------\u001b[0m",
            "\u001b[0;31mModuleNotFoundError\u001b[0m                       Traceback (most recent call last)",
            "\u001b[0;32m<ipython-input-27-8153796c33b7>\u001b[0m in \u001b[0;36m<cell line: 1>\u001b[0;34m()\u001b[0m\n\u001b[0;32m----> 1\u001b[0;31m \u001b[0;32mfrom\u001b[0m \u001b[0msetfit\u001b[0m \u001b[0;32mimport\u001b[0m \u001b[0mSetFitModel\u001b[0m\u001b[0;34m\u001b[0m\u001b[0;34m\u001b[0m\u001b[0m\n\u001b[0m\u001b[1;32m      2\u001b[0m \u001b[0;34m\u001b[0m\u001b[0m\n\u001b[1;32m      3\u001b[0m \u001b[0mmodel\u001b[0m \u001b[0;34m=\u001b[0m \u001b[0mSetFitModel\u001b[0m\u001b[0;34m.\u001b[0m\u001b[0mfrom_pretrained\u001b[0m\u001b[0;34m(\u001b[0m\u001b[0mmodel_name\u001b[0m\u001b[0;34m)\u001b[0m\u001b[0;34m\u001b[0m\u001b[0;34m\u001b[0m\u001b[0m\n",
            "\u001b[0;31mModuleNotFoundError\u001b[0m: No module named 'setfit'",
            "",
            "\u001b[0;31m---------------------------------------------------------------------------\u001b[0;32m\nNOTE: If your import is failing due to a missing package, you can\nmanually install dependencies using either !pip or !apt.\n\nTo view examples of installing some common dependencies, click the\n\"Open Examples\" button below.\n\u001b[0;31m---------------------------------------------------------------------------\u001b[0m\n"
          ]
        }
      ],
      "source": [
        "from setfit import SetFitModel\n",
        "\n",
        "model = SetFitModel.from_pretrained(model_name)"
      ]
    }
  ],
  "metadata": {
    "colab": {
      "provenance": []
    },
    "kernelspec": {
      "display_name": "Python 3",
      "name": "python3"
    },
    "language_info": {
      "codemirror_mode": {
        "name": "ipython",
        "version": 3
      },
      "file_extension": ".py",
      "mimetype": "text/x-python",
      "name": "python",
      "nbconvert_exporter": "python",
      "pygments_lexer": "ipython3",
      "version": "3.12.2"
    }
  },
  "nbformat": 4,
  "nbformat_minor": 0
}
