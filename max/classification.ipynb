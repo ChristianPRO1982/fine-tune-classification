{
  "cells": [
    {
      "cell_type": "code",
      "execution_count": null,
      "metadata": {
        "id": "2Z6F2xA9OZEo"
      },
      "outputs": [],
      "source": [
        "from transformers import pipeline, AutoTokenizer, CamembertForSequenceClassification\n",
        "from sklearn.model_selection import train_test_split\n",
        "import torch\n",
        "import torch.nn as nn\n",
        "from torch.utils.data import Dataset, DataLoader\n",
        "import datasets\n",
        "from datasets import load_dataset, Dataset\n",
        "from sklearn.model_selection import train_test_split\n",
        "\n",
        "import matplotlib.pyplot as plt\n",
        "import seaborn as sns\n",
        "import numpy as np\n",
        "\n",
        "from labels import LABELS"
      ]
    },
    {
      "cell_type": "markdown",
      "metadata": {
        "id": "MB2DE4D4OjUH"
      },
      "source": [
        "# Définition du modèle"
      ]
    },
    {
      "cell_type": "code",
      "execution_count": null,
      "metadata": {
        "id": "5qLCoAvMOR60"
      },
      "outputs": [],
      "source": [
        "# https://camembert-model.fr/posts/tutorial/#:~:text=Il%20faut%20enfin%20s'assurer,cette%20limite%20de%20512%20tokens.\n",
        "model_name = \"mtheo/camembert-base-xnli\"\n",
        "candidate_labels=list(map(lambda x: x.lower(), LABELS))\n"
      ]
    },
    {
      "cell_type": "code",
      "execution_count": null,
      "metadata": {
        "colab": {
          "base_uri": "https://localhost:8080/",
          "height": 213
        },
        "id": "WcqdDaVqIikT",
        "outputId": "f729cae3-3a46-4e5f-9936-11d1fb225008"
      },
      "outputs": [],
      "source": [
        "import pandas as pd\n",
        "\n",
        "data = \"./dataset_resume.csv\"\n",
        "\n",
        "df = pd.read_csv(data)\n",
        "df.head(3)"
      ]
    },
    {
      "cell_type": "markdown",
      "metadata": {
        "id": "PSQgasSni8a8"
      },
      "source": [
        "# clean"
      ]
    },
    {
      "cell_type": "code",
      "execution_count": null,
      "metadata": {
        "colab": {
          "base_uri": "https://localhost:8080/",
          "height": 300
        },
        "id": "-ldJTCH0i73E",
        "outputId": "819c7d38-cb34-4167-bd7c-0356e44742cf"
      },
      "outputs": [],
      "source": [
        "# df_new = df.copy()\n",
        "# for label in LABELS:\n",
        "#   df_new.insert(df_new.shape[1], label, pd.Series(0, dtype=int, index=range(df_new.shape[0])))\n",
        "\n",
        "# for row in df_new.iterrows():\n",
        "#   for cat in ['cat1', 'cat2', 'cat3']:\n",
        "#     for cat_col in LABELS:\n",
        "#       if row[1].loc[cat] == cat_col:\n",
        "#         df_new.at[row[0], cat_col] = 1\n",
        "#         break\n",
        "\n",
        "# df_new.drop(columns=['cat1', 'cat2', 'cat3', 'url'], inplace=True)\n",
        "# df_new = df_new.iloc[:, 1:]\n",
        "# df_new.head(2)"
      ]
    },
    {
      "cell_type": "code",
      "execution_count": null,
      "metadata": {
        "colab": {
          "base_uri": "https://localhost:8080/"
        },
        "id": "lD0dGtTm1rd6",
        "outputId": "a80e1f43-3eac-468e-a561-4b3c836f21a2"
      },
      "outputs": [],
      "source": [
        "# print(df_new.description.isnull().sum())\n",
        "\n",
        "# df_new.dropna(subset=['description'], inplace=True)"
      ]
    },
    {
      "cell_type": "markdown",
      "metadata": {
        "id": "lfdB80h365bA"
      },
      "source": [
        "# split"
      ]
    },
    {
      "cell_type": "code",
      "execution_count": null,
      "metadata": {},
      "outputs": [],
      "source": [
        "df_new = df.copy()\n",
        "\n",
        "for index, row in df_new.iterrows():\n",
        "    df_new.loc[index, \"description\"] = (\n",
        "            row.resume\n",
        "            if isinstance(row.resume, str)\n",
        "            else row.description\n",
        "        )"
      ]
    },
    {
      "cell_type": "code",
      "execution_count": null,
      "metadata": {
        "colab": {
          "base_uri": "https://localhost:8080/",
          "height": 449
        },
        "id": "1vP9HXTt65Bz",
        "outputId": "a4443c6f-9ff1-48f2-99e6-b1417f547e50"
      },
      "outputs": [],
      "source": [
        "train_df, val_df = train_test_split(df_new, test_size=.2, shuffle=True, random_state=42)\n",
        "#train_df[LABELS].sum().sort_values().plot(kind='barh')\n",
        "#val_df[LABELS].sum().sort_values().plot(kind='barh')\n",
        "\n",
        "plt.barh(np.arange(len(LABELS)) + .2, train_df[LABELS].sum(), 0.4, label = 'Train')\n",
        "plt.barh(np.arange(len(LABELS)) - .2, val_df[LABELS].sum(), 0.4, label = 'Val')\n",
        "\n",
        "plt.yticks(np.arange(len(LABELS)), LABELS)\n",
        "plt.xlabel(\"NB\")\n",
        "plt.ylabel(\"Label\")\n",
        "plt.legend()\n",
        "plt.show()\n"
      ]
    },
    {
      "cell_type": "markdown",
      "metadata": {
        "id": "vkQXZzy_0bwP"
      },
      "source": [
        "Pour savoir le nombre de token dans les descriptions"
      ]
    },
    {
      "cell_type": "code",
      "execution_count": null,
      "metadata": {
        "colab": {
          "base_uri": "https://localhost:8080/",
          "height": 448
        },
        "id": "dzF2wYRn0a_z",
        "outputId": "7494e3b8-71a5-4be8-c227-43cb2b6e3e6a"
      },
      "outputs": [],
      "source": [
        "tokenizer = AutoTokenizer.from_pretrained(\"camembert-base\")\n",
        "token_counts = []\n",
        "\n",
        "for _, row in train_df.iterrows():\n",
        "  token_count = len(tokenizer.encode(\n",
        "    row[\"description\"],\n",
        "    max_length=512,\n",
        "    truncation=False\n",
        "  ))\n",
        "  token_counts.append(token_count)\n",
        "\n",
        "sns.histplot(token_counts)\n",
        "plt.xlim([0, 512])\n",
        "\n",
        "print((train_df[\"description\"].apply(lambda x: len(x)) > 512).any())"
      ]
    },
    {
      "cell_type": "code",
      "execution_count": null,
      "metadata": {
        "colab": {
          "base_uri": "https://localhost:8080/",
          "height": 91
        },
        "id": "mycrcDHdtwWp",
        "outputId": "eda24a96-4764-41f5-8b46-d90a4a6c3ad4"
      },
      "outputs": [],
      "source": [
        "import os\n",
        "from dataset import EventDataModule\n",
        "\n",
        "os.environ[\"TOKENIZERS_PARALLELISM\"] = \"false\"\n",
        "\n",
        "data_module = EventDataModule(df_new, batch_size=1)\n",
        "data_module.setup()\n",
        "\n",
        "# train_dataset = EventDataset(df_new, tokenizer=tokenizer, max_token_len=512)\n",
        "\n",
        "# sample_item = train_dataset[1]\n",
        "# display(sample_item.keys())\n",
        "\n",
        "# print(sample_item['description_text'])\n",
        "\n",
        "# print(train_dataset.tokenized_str(sample_item['input_ids']))"
      ]
    },
    {
      "cell_type": "code",
      "execution_count": null,
      "metadata": {},
      "outputs": [],
      "source": [
        "# for batch in data_module.train_dataloader():\n",
        "#     print(batch)\n",
        "#     break"
      ]
    },
    {
      "cell_type": "code",
      "execution_count": null,
      "metadata": {},
      "outputs": [],
      "source": [
        "import lightning as L\n",
        "from lightning.pytorch.callbacks import ModelCheckpoint, EarlyStopping\n",
        "from event_model import EventClassifier\n",
        "\n",
        "model = EventClassifier(len(LABELS))\n",
        "trainer = L.Trainer(max_epochs=3, callbacks=[\n",
        "        EarlyStopping(monitor=\"val_loss\", patience=4, mode=\"min\"),\n",
        "        ModelCheckpoint(dirpath='./'),\n",
        "    ])\n",
        "trainer.fit(model, data_module)"
      ]
    },
    {
      "cell_type": "markdown",
      "metadata": {
        "id": "lTX2uY6gOq5k"
      },
      "source": [
        "# test brut\n",
        "zero-shot-classification"
      ]
    },
    {
      "cell_type": "code",
      "execution_count": null,
      "metadata": {
        "colab": {
          "base_uri": "https://localhost:8080/",
          "height": 1000
        },
        "id": "L_ggb3G7hkxk",
        "outputId": "d1575087-7614-404d-a409-6cb9deac96aa"
      },
      "outputs": [],
      "source": [
        "str_test1 = df.loc[0][\"description\"]\n",
        "str_test2 = df.loc[146][\"description\"]\n",
        "\n",
        "str_test = str_test2\n",
        "\n",
        "tokenizer = AutoTokenizer.from_pretrained(model_name)\n",
        "model = CamembertForSequenceClassification.from_pretrained(model_name)\n",
        "\n",
        "classifier = pipeline(task=\"zero-shot-classification\", model=model, tokenizer=tokenizer)\n",
        "res = classifier(str_test, candidate_labels=candidate_labels)\n",
        "\n",
        "# t = tokenizer(str_test)\n",
        "# print(tokenizer.tokenize(str_test))\n",
        "display(res)"
      ]
    }
  ],
  "metadata": {
    "colab": {
      "provenance": []
    },
    "kernelspec": {
      "display_name": "Python 3",
      "name": "python3"
    },
    "language_info": {
      "codemirror_mode": {
        "name": "ipython",
        "version": 3
      },
      "file_extension": ".py",
      "mimetype": "text/x-python",
      "name": "python",
      "nbconvert_exporter": "python",
      "pygments_lexer": "ipython3",
      "version": "3.12.2"
    }
  },
  "nbformat": 4,
  "nbformat_minor": 0
}
