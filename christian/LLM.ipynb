{
 "cells": [
  {
   "cell_type": "markdown",
   "metadata": {},
   "source": [
    "___\n",
    "___\n",
    "___\n",
    "# CLASSIFICATION\n",
    "___\n",
    "___\n",
    "___"
   ]
  },
  {
   "cell_type": "code",
   "execution_count": 37,
   "metadata": {},
   "outputs": [],
   "source": [
    "import pandas as pd\n",
    "\n",
    "df = pd.read_csv('../dataset.csv')\n",
    "\n",
    "# on va faire du LLM avec python pandas scikit-learn\n",
    "# voici mon contexte : j'ai récupérer des évènements (artisitques, etc.) sur internet. j'ai un csv avec comme features : url\ttitle\tdescription. De plus j'ai trois target : cat1\tcat2\tcat3\n",
    "# je voudrai faire de la catégorisation à partir de ces csv. Je ne suis pas sûr que l'URL soit totalement pertinent. Peut être faut-il récupérer le nom de domaine."
   ]
  },
  {
   "cell_type": "markdown",
   "metadata": {},
   "source": [
    "___\n",
    "### 1. Préparation des données\n",
    "___\n",
    "tout d'abord, vous devez charger les données à partir du fichier CSV en utilisant Pandas. Ensuite, vous pouvez extraire le nom de domaine à partir de l'URL en utilisant la bibliothèque tldextract. Vous pouvez ensuite ajouter une nouvelle colonne au DataFrame Pandas contenant le nom de domaine."
   ]
  },
  {
   "cell_type": "code",
   "execution_count": 38,
   "metadata": {},
   "outputs": [
    {
     "data": {
      "text/html": [
       "<div>\n",
       "<style scoped>\n",
       "    .dataframe tbody tr th:only-of-type {\n",
       "        vertical-align: middle;\n",
       "    }\n",
       "\n",
       "    .dataframe tbody tr th {\n",
       "        vertical-align: top;\n",
       "    }\n",
       "\n",
       "    .dataframe thead th {\n",
       "        text-align: right;\n",
       "    }\n",
       "</style>\n",
       "<table border=\"1\" class=\"dataframe\">\n",
       "  <thead>\n",
       "    <tr style=\"text-align: right;\">\n",
       "      <th></th>\n",
       "      <th>domain</th>\n",
       "      <th>url</th>\n",
       "    </tr>\n",
       "  </thead>\n",
       "  <tbody>\n",
       "    <tr>\n",
       "      <th>0</th>\n",
       "      <td>www.tourisme-cambresis.fr</td>\n",
       "      <td>https://www.tourisme-cambresis.fr/1-les-templi...</td>\n",
       "    </tr>\n",
       "  </tbody>\n",
       "</table>\n",
       "</div>"
      ],
      "text/plain": [
       "                      domain  \\\n",
       "0  www.tourisme-cambresis.fr   \n",
       "\n",
       "                                                 url  \n",
       "0  https://www.tourisme-cambresis.fr/1-les-templi...  "
      ]
     },
     "execution_count": 38,
     "metadata": {},
     "output_type": "execute_result"
    }
   ],
   "source": [
    "def extract_domain(url):\n",
    "    url = url[url.find('//')+2:]\n",
    "    url = url[:url.find('/')]\n",
    "    return url\n",
    "\n",
    "df['domain'] = df['url'].apply(extract_domain)\n",
    "df[['domain', 'url']].head(1)"
   ]
  },
  {
   "cell_type": "markdown",
   "metadata": {},
   "source": [
    "___\n",
    "### 2. Prétraitement des données\n",
    "___\n",
    "vous devez ensuite prétraiter les données textuelles dans les colonnes title et description. Vous pouvez par exemple supprimer les ponctuations, les chiffres et les caractères spéciaux, convertir les textes en minuscules, supprimer les stop-words et effectuer une stemming ou une lemmatization. Vous pouvez utiliser la bibliothèque nltk pour effectuer ces opérations."
   ]
  },
  {
   "cell_type": "code",
   "execution_count": 39,
   "metadata": {},
   "outputs": [
    {
     "name": "stderr",
     "output_type": "stream",
     "text": [
      "[nltk_data] Downloading package stopwords to\n",
      "[nltk_data]     /home/utilisateur/nltk_data...\n",
      "[nltk_data]   Package stopwords is already up-to-date!\n",
      "[nltk_data] Downloading package punkt to\n",
      "[nltk_data]     /home/utilisateur/nltk_data...\n",
      "[nltk_data]   Package punkt is already up-to-date!\n"
     ]
    },
    {
     "data": {
      "text/html": [
       "<div>\n",
       "<style scoped>\n",
       "    .dataframe tbody tr th:only-of-type {\n",
       "        vertical-align: middle;\n",
       "    }\n",
       "\n",
       "    .dataframe tbody tr th {\n",
       "        vertical-align: top;\n",
       "    }\n",
       "\n",
       "    .dataframe thead th {\n",
       "        text-align: right;\n",
       "    }\n",
       "</style>\n",
       "<table border=\"1\" class=\"dataframe\">\n",
       "  <thead>\n",
       "    <tr style=\"text-align: right;\">\n",
       "      <th></th>\n",
       "      <th>Unnamed: 0</th>\n",
       "      <th>url</th>\n",
       "      <th>title</th>\n",
       "      <th>description</th>\n",
       "      <th>cat1</th>\n",
       "      <th>cat2</th>\n",
       "      <th>cat3</th>\n",
       "      <th>domain</th>\n",
       "    </tr>\n",
       "  </thead>\n",
       "  <tbody>\n",
       "    <tr>\n",
       "      <th>0</th>\n",
       "      <td>0</td>\n",
       "      <td>https://www.tourisme-cambresis.fr/1-les-templi...</td>\n",
       "      <td>Aventure-jeu : \"Les Templiers du coffre d'or\"</td>\n",
       "      <td>Le jeu aventure « Les templiers du coffre d’or...</td>\n",
       "      <td>Jeu</td>\n",
       "      <td>Famille</td>\n",
       "      <td>Détente</td>\n",
       "      <td>www.tourisme-cambresis.fr</td>\n",
       "    </tr>\n",
       "  </tbody>\n",
       "</table>\n",
       "</div>"
      ],
      "text/plain": [
       "   Unnamed: 0                                                url  \\\n",
       "0           0  https://www.tourisme-cambresis.fr/1-les-templi...   \n",
       "\n",
       "                                           title  \\\n",
       "0  Aventure-jeu : \"Les Templiers du coffre d'or\"   \n",
       "\n",
       "                                         description cat1     cat2     cat3  \\\n",
       "0  Le jeu aventure « Les templiers du coffre d’or...  Jeu  Famille  Détente   \n",
       "\n",
       "                      domain  \n",
       "0  www.tourisme-cambresis.fr  "
      ]
     },
     "metadata": {},
     "output_type": "display_data"
    },
    {
     "data": {
      "text/html": [
       "<div>\n",
       "<style scoped>\n",
       "    .dataframe tbody tr th:only-of-type {\n",
       "        vertical-align: middle;\n",
       "    }\n",
       "\n",
       "    .dataframe tbody tr th {\n",
       "        vertical-align: top;\n",
       "    }\n",
       "\n",
       "    .dataframe thead th {\n",
       "        text-align: right;\n",
       "    }\n",
       "</style>\n",
       "<table border=\"1\" class=\"dataframe\">\n",
       "  <thead>\n",
       "    <tr style=\"text-align: right;\">\n",
       "      <th></th>\n",
       "      <th>Unnamed: 0</th>\n",
       "      <th>url</th>\n",
       "      <th>title</th>\n",
       "      <th>description</th>\n",
       "      <th>cat1</th>\n",
       "      <th>cat2</th>\n",
       "      <th>cat3</th>\n",
       "      <th>domain</th>\n",
       "    </tr>\n",
       "  </thead>\n",
       "  <tbody>\n",
       "    <tr>\n",
       "      <th>0</th>\n",
       "      <td>0</td>\n",
       "      <td>https://www.tourisme-cambresis.fr/1-les-templi...</td>\n",
       "      <td>le templier du coffr</td>\n",
       "      <td>le jeu aventur le templier du coffr créé par l...</td>\n",
       "      <td>Jeu</td>\n",
       "      <td>Famille</td>\n",
       "      <td>Détente</td>\n",
       "      <td>www.tourisme-cambresis.fr</td>\n",
       "    </tr>\n",
       "  </tbody>\n",
       "</table>\n",
       "</div>"
      ],
      "text/plain": [
       "   Unnamed: 0                                                url  \\\n",
       "0           0  https://www.tourisme-cambresis.fr/1-les-templi...   \n",
       "\n",
       "                  title                                        description  \\\n",
       "0  le templier du coffr  le jeu aventur le templier du coffr créé par l...   \n",
       "\n",
       "  cat1     cat2     cat3                     domain  \n",
       "0  Jeu  Famille  Détente  www.tourisme-cambresis.fr  "
      ]
     },
     "metadata": {},
     "output_type": "display_data"
    }
   ],
   "source": [
    "import nltk\n",
    "from nltk.corpus import stopwords\n",
    "from nltk.stem import PorterStemmer\n",
    "\n",
    "nltk.download('stopwords')\n",
    "nltk.download('punkt')\n",
    "\n",
    "def preprocess_text(text):\n",
    "    # Vérifier que la valeur d'entrée est une chaîne de caractères\n",
    "    if not isinstance(text, str):\n",
    "        return ''\n",
    "    \n",
    "    # Tokenization\n",
    "    tokens = nltk.word_tokenize(text)\n",
    "\n",
    "    # Supprimer les ponctuations, les chiffres et les caractères spéciaux\n",
    "    tokens = [token for token in tokens if token.isalpha()]\n",
    "\n",
    "    # Convertir en minuscules\n",
    "    tokens = [token.lower() for token in tokens]\n",
    "\n",
    "    # Supprimer les stop-words\n",
    "    stop_words = set(stopwords.words('english'))\n",
    "    tokens = [token for token in tokens if token not in stop_words]\n",
    "\n",
    "    # Stemming\n",
    "    stemmer = PorterStemmer()\n",
    "    tokens = [stemmer.stem(token) for token in tokens]\n",
    "\n",
    "    # Reconstruction du texte prétraité\n",
    "    preprocessed_text = ' '.join(tokens)\n",
    "    return preprocessed_text\n",
    "\n",
    "display(df.head(1))\n",
    "df['title'] = df['title'].apply(preprocess_text)\n",
    "df['description'] = df['description'].apply(preprocess_text)\n",
    "display(df.head(1))\n"
   ]
  },
  {
   "cell_type": "markdown",
   "metadata": {},
   "source": [
    "___\n",
    "### 3.Vectorisation des données\n",
    "___\n",
    "vous devez ensuite convertir les données textuelles prétraitées en vecteurs de caractéristiques en utilisant par exemple TfidfVectorizer de Scikit-learn. Vous pouvez concaténer les vecteurs obtenus à partir des colonnes title, description et éventuellement domain."
   ]
  },
  {
   "cell_type": "code",
   "execution_count": 43,
   "metadata": {},
   "outputs": [
    {
     "data": {
      "text/plain": [
       "<391x2238 sparse matrix of type '<class 'numpy.float64'>'\n",
       "\twith 11518 stored elements in Compressed Sparse Row format>"
      ]
     },
     "execution_count": 43,
     "metadata": {},
     "output_type": "execute_result"
    }
   ],
   "source": [
    "from sklearn.feature_extraction.text import TfidfVectorizer\n",
    "import scipy\n",
    "\n",
    "vectorizer = TfidfVectorizer()\n",
    "X_title = vectorizer.fit_transform(df['title'])\n",
    "X_description = vectorizer.transform(df['description'])\n",
    "X_domain = vectorizer.transform(df['domain'])\n",
    "\n",
    "# Concaténer les vecteurs\n",
    "from sklearn.datasets import load_files\n",
    "X = scipy.sparse.hstack([X_title, X_description, X_domain])"
   ]
  }
 ],
 "metadata": {
  "kernelspec": {
   "display_name": ".venv",
   "language": "python",
   "name": "python3"
  },
  "language_info": {
   "codemirror_mode": {
    "name": "ipython",
    "version": 3
   },
   "file_extension": ".py",
   "mimetype": "text/x-python",
   "name": "python",
   "nbconvert_exporter": "python",
   "pygments_lexer": "ipython3",
   "version": "3.11.0rc1"
  }
 },
 "nbformat": 4,
 "nbformat_minor": 2
}
