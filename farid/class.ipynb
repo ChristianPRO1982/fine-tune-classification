{
 "cells": [
  {
   "cell_type": "code",
   "execution_count": 1,
   "metadata": {},
   "outputs": [
    {
     "name": "stderr",
     "output_type": "stream",
     "text": [
      "/home/utilisateur/Documents/dev_ia/fine-tune-classification/farid/venv/lib/python3.10/site-packages/tqdm/auto.py:21: TqdmWarning: IProgress not found. Please update jupyter and ipywidgets. See https://ipywidgets.readthedocs.io/en/stable/user_install.html\n",
      "  from .autonotebook import tqdm as notebook_tqdm\n"
     ]
    }
   ],
   "source": [
    "import torch\n",
    "from transformers import LongformerTokenizerFast, LongformerForSequenceClassification\n",
    "from transformers import AutoTokenizer, AutoModelForSequenceClassification\n",
    "import pandas as pd\n",
    "from sklearn.preprocessing import LabelEncoder\n",
    "from torch.utils.data import DataLoader, TensorDataset\n",
    "from torch.optim import AdamW\n",
    "\n",
    "pd.set_option('display.max_columns', None)\n",
    "pd.set_option('display.max_rows', None)\n",
    "pd.set_option('display.max_colwidth', None)\n"
   ]
  },
  {
   "cell_type": "code",
   "execution_count": 2,
   "metadata": {},
   "outputs": [
    {
     "data": {
      "text/html": [
       "<div>\n",
       "<style scoped>\n",
       "    .dataframe tbody tr th:only-of-type {\n",
       "        vertical-align: middle;\n",
       "    }\n",
       "\n",
       "    .dataframe tbody tr th {\n",
       "        vertical-align: top;\n",
       "    }\n",
       "\n",
       "    .dataframe thead th {\n",
       "        text-align: right;\n",
       "    }\n",
       "</style>\n",
       "<table border=\"1\" class=\"dataframe\">\n",
       "  <thead>\n",
       "    <tr style=\"text-align: right;\">\n",
       "      <th></th>\n",
       "      <th>Unnamed: 0</th>\n",
       "      <th>url</th>\n",
       "      <th>title</th>\n",
       "      <th>description</th>\n",
       "      <th>cat1</th>\n",
       "      <th>cat2</th>\n",
       "      <th>cat3</th>\n",
       "    </tr>\n",
       "  </thead>\n",
       "  <tbody>\n",
       "    <tr>\n",
       "      <th>0</th>\n",
       "      <td>0</td>\n",
       "      <td>https://www.tourisme-cambresis.fr/1-les-templiers-coffre.html</td>\n",
       "      <td>Aventure-jeu : \"Les Templiers du coffre d'or\"</td>\n",
       "      <td>Le jeu aventure « Les templiers du coffre d’or » créé par la ville de Caudry en partenariat avec l’association Caudry Ma Passion débarque !\\n\\nConstruit autour d’un scénario original et vous entraînant dans un jeu de piste en autonomie dans le centre-ville de Caudry, ce jeu aventure vous permettra de passer 2h de divertissement en famille.\\n\\nVous pourrez vous procurer le sac contenant tout le nécessaire pour vous lancer dans cette aventure pour la somme de 15€ (un sac permet à une famille entière de jouer) auprès du Bureau d'Information Touristique de Caudry.</td>\n",
       "      <td>Jeu</td>\n",
       "      <td>Famille</td>\n",
       "      <td>Détente</td>\n",
       "    </tr>\n",
       "  </tbody>\n",
       "</table>\n",
       "</div>"
      ],
      "text/plain": [
       "   Unnamed: 0                                                            url  \\\n",
       "0           0  https://www.tourisme-cambresis.fr/1-les-templiers-coffre.html   \n",
       "\n",
       "                                           title  \\\n",
       "0  Aventure-jeu : \"Les Templiers du coffre d'or\"   \n",
       "\n",
       "                                                                                                                                                                                                                                                                                                                                                                                                                                                                                                                                                                              description  \\\n",
       "0  Le jeu aventure « Les templiers du coffre d’or » créé par la ville de Caudry en partenariat avec l’association Caudry Ma Passion débarque !\\n\\nConstruit autour d’un scénario original et vous entraînant dans un jeu de piste en autonomie dans le centre-ville de Caudry, ce jeu aventure vous permettra de passer 2h de divertissement en famille.\\n\\nVous pourrez vous procurer le sac contenant tout le nécessaire pour vous lancer dans cette aventure pour la somme de 15€ (un sac permet à une famille entière de jouer) auprès du Bureau d'Information Touristique de Caudry.   \n",
       "\n",
       "  cat1     cat2     cat3  \n",
       "0  Jeu  Famille  Détente  "
      ]
     },
     "execution_count": 2,
     "metadata": {},
     "output_type": "execute_result"
    }
   ],
   "source": [
    "#exploration du dataset\n",
    "\n",
    "df = pd.read_csv('/home/utilisateur/Documents/dev_ia/fine-tune-classification/dataset.csv')\n",
    "\n",
    "df.head(1)\n"
   ]
  },
  {
   "cell_type": "code",
   "execution_count": 3,
   "metadata": {},
   "outputs": [],
   "source": [
    "#garder colonne description, cat1, cat2, cat3\n",
    "\n",
    "df = df[['description', 'cat1', 'cat2', 'cat3']]"
   ]
  },
  {
   "cell_type": "code",
   "execution_count": 4,
   "metadata": {},
   "outputs": [
    {
     "data": {
      "text/html": [
       "<div>\n",
       "<style scoped>\n",
       "    .dataframe tbody tr th:only-of-type {\n",
       "        vertical-align: middle;\n",
       "    }\n",
       "\n",
       "    .dataframe tbody tr th {\n",
       "        vertical-align: top;\n",
       "    }\n",
       "\n",
       "    .dataframe thead th {\n",
       "        text-align: right;\n",
       "    }\n",
       "</style>\n",
       "<table border=\"1\" class=\"dataframe\">\n",
       "  <thead>\n",
       "    <tr style=\"text-align: right;\">\n",
       "      <th></th>\n",
       "      <th>description</th>\n",
       "      <th>cat1</th>\n",
       "      <th>cat2</th>\n",
       "      <th>cat3</th>\n",
       "    </tr>\n",
       "  </thead>\n",
       "  <tbody>\n",
       "    <tr>\n",
       "      <th>0</th>\n",
       "      <td>Le jeu aventure « Les templiers du coffre d’or » créé par la ville de Caudry en partenariat avec l’association Caudry Ma Passion débarque !  Construit autour d’un scénario original et vous entraînant dans un jeu de piste en autonomie dans le centre-ville de Caudry, ce jeu aventure vous permettra de passer 2h de divertissement en famille.  Vous pourrez vous procurer le sac contenant tout le nécessaire pour vous lancer dans cette aventure pour la somme de 15€ (un sac permet à une famille entière de jouer) auprès du Bureau d'Information Touristique de Caudry.</td>\n",
       "      <td>Jeu</td>\n",
       "      <td>Famille</td>\n",
       "      <td>Détente</td>\n",
       "    </tr>\n",
       "  </tbody>\n",
       "</table>\n",
       "</div>"
      ],
      "text/plain": [
       "                                                                                                                                                                                                                                                                                                                                                                                                                                                                                                                                                                          description  \\\n",
       "0  Le jeu aventure « Les templiers du coffre d’or » créé par la ville de Caudry en partenariat avec l’association Caudry Ma Passion débarque !  Construit autour d’un scénario original et vous entraînant dans un jeu de piste en autonomie dans le centre-ville de Caudry, ce jeu aventure vous permettra de passer 2h de divertissement en famille.  Vous pourrez vous procurer le sac contenant tout le nécessaire pour vous lancer dans cette aventure pour la somme de 15€ (un sac permet à une famille entière de jouer) auprès du Bureau d'Information Touristique de Caudry.   \n",
       "\n",
       "  cat1     cat2     cat3  \n",
       "0  Jeu  Famille  Détente  "
      ]
     },
     "execution_count": 4,
     "metadata": {},
     "output_type": "execute_result"
    }
   ],
   "source": [
    "#supprimer les retours à la ligne dans la colonne description\n",
    "\n",
    "df['description'] = df['description'].str.replace('\\n', ' ')\n",
    "df.head(1)\n"
   ]
  },
  {
   "cell_type": "code",
   "execution_count": 5,
   "metadata": {},
   "outputs": [],
   "source": [
    "\n",
    "\n",
    "\n",
    "#supprimer colonne cat2 et cat3\n",
    "\n",
    "drop_columns = ['cat2', 'cat3']\n",
    "df = df.drop(drop_columns, axis=1)\n",
    "\n",
    "#supprimer le manquant dans la colonne description\n",
    "\n",
    "df = df.dropna(subset=['description'])\n",
    "\n",
    "#Labeencoder cat1\n",
    "\n",
    "label_encoder = LabelEncoder()\n",
    "\n",
    "df['cat1_encoded'] = label_encoder.fit_transform(df['cat1'])\n",
    "\n",
    "\n"
   ]
  },
  {
   "cell_type": "code",
   "execution_count": 6,
   "metadata": {},
   "outputs": [],
   "source": [
    "# initialize the tokenizer and model\n",
    "# define the number of classes\n",
    "num_labels = len(df['cat1_encoded'].unique())\n",
    "\n",
    "tokenizer = AutoTokenizer.from_pretrained(\"papluca/xlm-roberta-base-language-detection\")\n",
    "model = AutoModelForSequenceClassification.from_pretrained(\"papluca/xlm-roberta-base-language-detection\", num_labels=num_labels)\n",
    "\n",
    "# tokenize the descriptions\n",
    "inputs = tokenizer(df['description'].tolist(), padding=True, truncation=True, max_length=512, return_tensors=\"pt\")\n",
    "\n",
    "# convert the labels to tensors\n",
    "labels = torch.tensor(df['cat1_encoded'].tolist())\n",
    "\n",
    "\n",
    "\n"
   ]
  },
  {
   "cell_type": "code",
   "execution_count": 7,
   "metadata": {},
   "outputs": [
    {
     "name": "stderr",
     "output_type": "stream",
     "text": [
      "/home/utilisateur/Documents/dev_ia/fine-tune-classification/farid/venv/lib/python3.10/site-packages/transformers/optimization.py:588: FutureWarning: This implementation of AdamW is deprecated and will be removed in a future version. Use the PyTorch implementation torch.optim.AdamW instead, or set `no_deprecation_warning=True` to disable this warning\n",
      "  warnings.warn(\n"
     ]
    }
   ],
   "source": [
    "import torch\n",
    "from torch.utils.data import DataLoader, TensorDataset\n",
    "from transformers import AdamW\n",
    "#entrainer le modèle\n",
    "\n",
    "dataset = TensorDataset(inputs['input_ids'], inputs['attention_mask'], labels)\n",
    "dataloader = DataLoader(dataset, batch_size=2, shuffle=True)\n",
    "\n",
    "#définir l'optimizer\n",
    "optimizer = AdamW(model.parameters(), lr=5e-5)\n",
    "\n",
    "#entrainer le modèle\n",
    "def train(model, dataloader, optimizer, epochs=1):\n",
    "    model.train()\n",
    "    for epoch in range(epochs):\n",
    "        for batch in dataloader:\n",
    "            optimizer.zero_grad()\n",
    "            input_ids, attention_mask, labels = batch\n",
    "            outputs = model(input_ids, attention_mask=attention_mask, labels=labels)\n",
    "            loss = outputs.loss\n",
    "            loss.backward()\n",
    "            optimizer.step()\n",
    "            print(f'Epoch {epoch+1}, Loss: {loss.item()}')\n",
    "\n",
    "train(model, dataloader, optimizer)              \n",
    "\n"
   ]
  }
 ],
 "metadata": {
  "kernelspec": {
   "display_name": "venv",
   "language": "python",
   "name": "python3"
  },
  "language_info": {
   "codemirror_mode": {
    "name": "ipython",
    "version": 3
   },
   "file_extension": ".py",
   "mimetype": "text/x-python",
   "name": "python",
   "nbconvert_exporter": "python",
   "pygments_lexer": "ipython3",
   "version": "3.10.12"
  }
 },
 "nbformat": 4,
 "nbformat_minor": 2
}
