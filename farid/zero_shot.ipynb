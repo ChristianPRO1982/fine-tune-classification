{
 "cells": [
  {
   "cell_type": "code",
   "execution_count": 1,
   "metadata": {},
   "outputs": [
    {
     "name": "stderr",
     "output_type": "stream",
     "text": [
      "/home/utilisateur/Documents/dev_ia/fine-tune-classification/farid/venv/lib/python3.10/site-packages/tqdm/auto.py:21: TqdmWarning: IProgress not found. Please update jupyter and ipywidgets. See https://ipywidgets.readthedocs.io/en/stable/user_install.html\n",
      "  from .autonotebook import tqdm as notebook_tqdm\n",
      "2024-06-17 09:03:15.319400: I tensorflow/core/platform/cpu_feature_guard.cc:210] This TensorFlow binary is optimized to use available CPU instructions in performance-critical operations.\n",
      "To enable the following instructions: AVX2 FMA, in other operations, rebuild TensorFlow with the appropriate compiler flags.\n",
      "2024-06-17 09:03:19.026431: W tensorflow/compiler/tf2tensorrt/utils/py_utils.cc:38] TF-TRT Warning: Could not find TensorRT\n"
     ]
    },
    {
     "data": {
      "text/plain": [
       "{'sequence': 'L’abbaye de Vaucelles, monument culturel du Département du Nord, organise une exposition temporaire autour de l’archéologie passée, actuelle et à venir du site classé au titre des Monuments Historiques depuis 1920. L’histoire abbatiale couvre 900 ans au coeur de la vallée de l’Escaut. À l’heure des bilans et des synthèses scientifiques, un rapide constat apparait : il reste encore tant à découvrir à Vaucelles. Périodes de construction et de reconstructions, projets architecturaux non aboutis, fonctions et espaces occupés, les hypothèses ne demandent qu’à être vérifiées et argumentées. Conçue comme une exposition de site, l’exposition temporaire couvrira les thèmes de la vie monacale connue, et méconnue, dans un parcours instructif et intuitif. Maquettes, plans, photographies d’archives in situ, reconstitutions, reproductions de chartes ou de manuscrits, entrevues inédites, méthodologies archéologiques ou présentations de pièces de la collection lapidaire tout récemment mises au jour, les découvertes du visiteur se feront aussi pas-à-pas. Une campagne de collecte (pour référencer les photographies anciennes, les documents et les objets dispersés ou encore pour cartographier le réemploi des pierres de l’abbaye) est lancée à l’occasion de cette exposition et l’accompagnera tout au long de l’année 2023. Conférences, visites guidées thématiques, ateliers ou circuits permettront d’être au plus proche des problématiques du site historique en devenir.L’exposition est une promenade archéologique organisée par l’Abbaye de Vaucelles et le Service Archéologie et Patrimoine du Département du Nord.',\n",
       " 'labels': ['Exposition',\n",
       "  'Visite',\n",
       "  'Culture',\n",
       "  'Histoire',\n",
       "  'Balade',\n",
       "  'Conférence',\n",
       "  'Atelier',\n",
       "  'Action',\n",
       "  'Spectacle',\n",
       "  'Festival',\n",
       "  'Fête',\n",
       "  'Détente',\n",
       "  'Famille',\n",
       "  'Jeu',\n",
       "  'Environnement',\n",
       "  'Théatre',\n",
       "  'Sport',\n",
       "  'Brocante',\n",
       "  'Marché',\n",
       "  'Concert',\n",
       "  'Danse'],\n",
       " 'scores': [0.7515137791633606,\n",
       "  0.09716664999723434,\n",
       "  0.09173034131526947,\n",
       "  0.022928699851036072,\n",
       "  0.016845857724547386,\n",
       "  0.007563891354948282,\n",
       "  0.003285412210971117,\n",
       "  0.0021285025868564844,\n",
       "  0.0010727151529863477,\n",
       "  0.0007675901870243251,\n",
       "  0.0007027644896879792,\n",
       "  0.0006446285988204181,\n",
       "  0.0005901945405639708,\n",
       "  0.0005126675823703408,\n",
       "  0.0004406056832522154,\n",
       "  0.00043505828944034874,\n",
       "  0.00041298859287053347,\n",
       "  0.00038443607627414167,\n",
       "  0.00036205380456522107,\n",
       "  0.0003300278913229704,\n",
       "  0.0001810910034691915]}"
      ]
     },
     "execution_count": 1,
     "metadata": {},
     "output_type": "execute_result"
    }
   ],
   "source": [
    "from transformers import pipeline\n",
    "#joeddav/xlm-roberta-large-xnli\n",
    "\n",
    "\n",
    "classify_zero_shot = pipeline('zero-shot-classification', model=\"MoritzLaurer/mDeBERTa-v3-base-mnli-xnli\")\n",
    "\n",
    "classify_zero_shot(\n",
    "    \"L’abbaye de Vaucelles, monument culturel du Département du Nord, organise une exposition temporaire autour de l’archéologie passée, actuelle et à venir du site classé au titre des Monuments Historiques depuis 1920. L’histoire abbatiale couvre 900 ans au coeur de la vallée de l’Escaut. À l’heure des bilans et des synthèses scientifiques, un rapide constat apparait : il reste encore tant à découvrir à Vaucelles. Périodes de construction et de reconstructions, projets architecturaux non aboutis, fonctions et espaces occupés, les hypothèses ne demandent qu’à être vérifiées et argumentées. Conçue comme une exposition de site, l’exposition temporaire couvrira les thèmes de la vie monacale connue, et méconnue, dans un parcours instructif et intuitif. Maquettes, plans, photographies d’archives in situ, reconstitutions, reproductions de chartes ou de manuscrits, entrevues inédites, méthodologies archéologiques ou présentations de pièces de la collection lapidaire tout récemment mises au jour, les découvertes du visiteur se feront aussi pas-à-pas. Une campagne de collecte (pour référencer les photographies anciennes, les documents et les objets dispersés ou encore pour cartographier le réemploi des pierres de l’abbaye) est lancée à l’occasion de cette exposition et l’accompagnera tout au long de l’année 2023. Conférences, visites guidées thématiques, ateliers ou circuits permettront d’être au plus proche des problématiques du site historique en devenir.L’exposition est une promenade archéologique organisée par l’Abbaye de Vaucelles et le Service Archéologie et Patrimoine du Département du Nord.\",\n",
    "    candidate_labels=[\"Festival\",\n",
    "    \"Exposition\",\n",
    "    \"Théatre\",\n",
    "    \"Détente\",\n",
    "    \"Action\",\n",
    "    \"Marché\",\n",
    "    \"Environnement\",\n",
    "    \"Atelier\",\n",
    "    \"Fête\",\n",
    "    \"Sport\",\n",
    "    \"Balade\",\n",
    "    \"Visite\",\n",
    "    \"Brocante\",\n",
    "    \"Spectacle\",\n",
    "    \"Conférence\",\n",
    "    \"Danse\",\n",
    "    \"Jeu\",\n",
    "    \"Famille\",\n",
    "    \"Concert\",\n",
    "    \"Culture\",\n",
    "    \"Histoire\",]\n",
    ")"
   ]
  }
 ],
 "metadata": {
  "kernelspec": {
   "display_name": "venv",
   "language": "python",
   "name": "python3"
  },
  "language_info": {
   "codemirror_mode": {
    "name": "ipython",
    "version": 3
   },
   "file_extension": ".py",
   "mimetype": "text/x-python",
   "name": "python",
   "nbconvert_exporter": "python",
   "pygments_lexer": "ipython3",
   "version": "3.10.12"
  }
 },
 "nbformat": 4,
 "nbformat_minor": 2
}
