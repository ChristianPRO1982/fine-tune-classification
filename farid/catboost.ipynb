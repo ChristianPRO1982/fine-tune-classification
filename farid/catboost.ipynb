{
 "cells": [
  {
   "cell_type": "code",
   "execution_count": 18,
   "metadata": {},
   "outputs": [
    {
     "name": "stdout",
     "output_type": "stream",
     "text": [
      "Précision : 0.9518072289156626\n"
     ]
    }
   ],
   "source": [
    "from catboost import CatBoostClassifier\n",
    "\n",
    "from sklearn.model_selection import train_test_split\n",
    "from sklearn.metrics import accuracy_score\n",
    "\n",
    "import pandas as pd\n",
    "\n",
    "# Lecture du fichier CSV et stockage des données dans un DataFrame\n",
    "df = pd.read_csv('../dataset.csv')\n",
    "\n",
    "# Sélection des colonnes 'description' et 'cat1' du DataFrame\n",
    "df = df[['description', 'cat1']]\n",
    "\n",
    "# Suppression des lignes où la colonne 'description' est vide\n",
    "df = df.dropna(subset=['description'])\n",
    "\n",
    "# Remplacement des retours à la ligne dans la colonne 'description' par des espaces\n",
    "df['description'] = df['description'].str.replace('\\n', ' ')\n",
    "\n",
    "# Importation de la bibliothèque pour le rééquilibrage des classes\n",
    "from imblearn.over_sampling import RandomOverSampler\n",
    "\n",
    "# Initialisation de l'objet pour le rééquilibrage des classes\n",
    "oversampler = RandomOverSampler(random_state=0)\n",
    "\n",
    "# Séparation des données en caractéristiques (X) et cibles (y)\n",
    "X = df['description']\n",
    "y = df['cat1']\n",
    "\n",
    "# Rééquilibrage des classes\n",
    "X_resampled, y_resampled = oversampler.fit_resample(df, y)\n",
    "\n",
    "# Création d'un nouveau DataFrame avec les données rééquilibrées\n",
    "df = pd.DataFrame(X_resampled, columns=['description', 'cat1'])\n",
    "\n",
    "# Séparation des données en caractéristiques (X) et cibles (y)\n",
    "X = df[['description']]\n",
    "y = df['cat1']\n",
    "\n",
    "# Séparation des données en données d'entraînement et de test\n",
    "X_train, X_test, y_train, y_test = train_test_split(X, y, test_size=0.2, random_state=0)\n",
    "\n",
    "# Création d'un objet CatBoostClassifier\n",
    "features_text = ['description']\n",
    "model = CatBoostClassifier(text_features=features_text, verbose=0)\n",
    "\n",
    "# Entraînement du modèle\n",
    "model.fit(X_train, y_train)\n",
    "\n",
    "# Prédiction sur les données de test\n",
    "y_pred = model.predict(X_test)\n",
    "\n",
    "# Calcul de la précision\n",
    "accuracy = accuracy_score(y_test, y_pred)\n",
    "print('Précision :', accuracy)\n",
    "\n",
    "\n",
    "#Précision : 0.9518072289156626\n"
   ]
  }
 ],
 "metadata": {
  "kernelspec": {
   "display_name": "venv",
   "language": "python",
   "name": "python3"
  },
  "language_info": {
   "codemirror_mode": {
    "name": "ipython",
    "version": 3
   },
   "file_extension": ".py",
   "mimetype": "text/x-python",
   "name": "python",
   "nbconvert_exporter": "python",
   "pygments_lexer": "ipython3",
   "version": "3.10.12"
  }
 },
 "nbformat": 4,
 "nbformat_minor": 2
}
